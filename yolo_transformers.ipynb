{
 "cells": [
  {
   "metadata": {
    "ExecuteTime": {
     "end_time": "2024-11-21T16:25:18.945799Z",
     "start_time": "2024-11-21T16:25:17.875192Z"
    }
   },
   "cell_type": "code",
   "source": [
    "import os\n",
    "\n",
    "import torch\n",
    "from transformers import AutoModelForObjectDetection, AutoFeatureExtractor, YolosImageProcessor\n",
    "\n",
    "os.environ[\"PYTORCH_ENABLE_MPS_FALLBACK\"] = \"1\"\n",
    "device = \"cpu\"\n",
    "\n",
    "model = AutoModelForObjectDetection.from_pretrained(\"hustvl/yolos-base\", attn_implementation=\"sdpa\", torch_dtype=torch.float16).to(device)\n",
    "feature_extractor = YolosImageProcessor.from_pretrained(\"hustvl/yolos-base\")"
   ],
   "id": "aace193a2bca259f",
   "outputs": [],
   "execution_count": 9
  },
  {
   "metadata": {
    "ExecuteTime": {
     "end_time": "2024-11-21T16:24:02.938052Z",
     "start_time": "2024-11-21T16:24:02.819677Z"
    }
   },
   "cell_type": "code",
   "source": [
    "from PIL import Image\n",
    "\n",
    "image = Image.open(\"data/iam_form.png\").convert(\"RGB\")\n",
    "pixel_values = feature_extractor(image, return_tensors=\"pt\").pixel_values.to(device).half()"
   ],
   "id": "8bdc0461b2430b23",
   "outputs": [],
   "execution_count": 7
  },
  {
   "metadata": {
    "ExecuteTime": {
     "end_time": "2024-11-21T16:25:17.260233Z",
     "start_time": "2024-11-21T16:24:03.906816Z"
    }
   },
   "cell_type": "code",
   "source": [
    "with torch.no_grad():\n",
    "    outputs = model(pixel_values, output_attentions=True)"
   ],
   "id": "a168825420803639",
   "outputs": [
    {
     "name": "stderr",
     "output_type": "stream",
     "text": [
      "`YolosSdpaAttention` is used but `torch.nn.functional.scaled_dot_product_attention` does not support `output_attentions=True` or `head_mask`. Falling back to the manual attention implementation, but specifying the manual implementation will be required from Transformers version v5.0.0 onwards. This warning can be removed using the argument `attn_implementation=\"eager\"` when loading the model.\n"
     ]
    }
   ],
   "execution_count": 8
  },
  {
   "metadata": {
    "ExecuteTime": {
     "end_time": "2024-11-21T16:16:33.064803Z",
     "start_time": "2024-11-21T16:16:32.825422Z"
    }
   },
   "cell_type": "code",
   "source": [
    "import matplotlib.pyplot as plt\n",
    "\n",
    "# colors for visualization\n",
    "COLORS = [[0.000, 0.447, 0.741], [0.850, 0.325, 0.098], [0.929, 0.694, 0.125],\n",
    "          [0.494, 0.184, 0.556], [0.466, 0.674, 0.188], [0.301, 0.745, 0.933]]\n",
    "\n",
    "def plot_results(pil_img, prob, boxes):\n",
    "    plt.figure(figsize=(16,10))\n",
    "    plt.imshow(pil_img)\n",
    "    ax = plt.gca()\n",
    "    colors = COLORS * 100\n",
    "    for p, (xmin, ymin, xmax, ymax), c in zip(prob, boxes.tolist(), colors):\n",
    "        ax.add_patch(plt.Rectangle((xmin, ymin), xmax - xmin, ymax - ymin,\n",
    "                                   fill=False, color=c, linewidth=3))\n",
    "        cl = p.argmax()\n",
    "        text = f'{model.config.id2label[cl.item()]}: {p[cl]:0.2f}'\n",
    "        ax.text(xmin, ymin, text, fontsize=15,\n",
    "                bbox=dict(facecolor='yellow', alpha=0.5))\n",
    "    plt.axis('off')\n",
    "    plt.show()\n",
    "\n",
    "# keep only predictions of queries with 0.9+ confidence (excluding no-object class)\n",
    "probas = outputs.logits.softmax(-1)[0, :, :-1]\n",
    "keep = probas.max(-1).values > 0.9\n",
    "\n",
    "# rescale bounding boxes\n",
    "target_sizes = torch.tensor(image.size[::-1]).unsqueeze(0)\n",
    "postprocessed_outputs = feature_extractor.post_process(outputs, target_sizes)\n",
    "bboxes_scaled = postprocessed_outputs[0]['boxes']\n",
    "\n",
    "\n",
    "plot_results(image, probas[keep], bboxes_scaled[keep])"
   ],
   "id": "909944b85607265",
   "outputs": [],
   "execution_count": 2
  }
 ],
 "metadata": {
  "kernelspec": {
   "display_name": "Python 3",
   "language": "python",
   "name": "python3"
  },
  "language_info": {
   "codemirror_mode": {
    "name": "ipython",
    "version": 2
   },
   "file_extension": ".py",
   "mimetype": "text/x-python",
   "name": "python",
   "nbconvert_exporter": "python",
   "pygments_lexer": "ipython2",
   "version": "2.7.6"
  }
 },
 "nbformat": 4,
 "nbformat_minor": 5
}
