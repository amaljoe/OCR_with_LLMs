{
 "cells": [
  {
   "cell_type": "code",
   "id": "initial_id",
   "metadata": {
    "collapsed": true,
    "ExecuteTime": {
     "end_time": "2024-11-24T06:53:13.435300Z",
     "start_time": "2024-11-24T06:53:12.823086Z"
    }
   },
   "source": [
    "from tkinter import Image\n",
    "\n",
    "import kagglehub\n",
    "\n",
    "path = kagglehub.dataset_download(\"naderabdalghani/iam-handwritten-forms-dataset\")\n",
    "\n",
    "print(\"Path to dataset files:\", path)"
   ],
   "outputs": [
    {
     "name": "stdout",
     "output_type": "stream",
     "text": [
      "Path to dataset files: /Users/amaljoe/.cache/kagglehub/datasets/naderabdalghani/iam-handwritten-forms-dataset/versions/1\n"
     ]
    }
   ],
   "execution_count": 3
  },
  {
   "metadata": {
    "ExecuteTime": {
     "end_time": "2024-11-24T07:50:08.944196Z",
     "start_time": "2024-11-24T07:50:02.939267Z"
    }
   },
   "cell_type": "code",
   "source": [
    "import os\n",
    "from tqdm.notebook import tqdm\n",
    "import shutil\n",
    "from PIL import Image\n",
    "import numpy as np\n",
    "\n",
    "\n",
    "dataset_path = path + '/data'\n",
    "output_folder = 'raw_dataset'\n",
    "folders = os.listdir(dataset_path)\n",
    "\n",
    "image_path = \"\"\n",
    "\n",
    "if not os.path.exists(output_folder):\n",
    "    os.makedirs(output_folder)\n",
    "\n",
    "for folder in tqdm(folders):\n",
    "    files = os.listdir(dataset_path + '/' + folder)\n",
    "    for file in files:\n",
    "        if file[-4:] != '.png':\n",
    "            continue\n",
    "        image_path = dataset_path + '/' + folder + '/' + file\n",
    "        img = Image.open(image_path)\n",
    "        lines =  np.array(img)[400:1000].mean(axis=1)\n",
    "        first_line = np.argmin(lines)\n",
    "        img = img.crop((0, first_line + 400, img.width, img.height - 750))\n",
    "        dest = output_folder + '/' + file\n",
    "        img.save(dest)"
   ],
   "id": "8ab09e5610553892",
   "outputs": [
    {
     "data": {
      "text/plain": [
       "  0%|          | 0/3 [00:00<?, ?it/s]"
      ],
      "application/vnd.jupyter.widget-view+json": {
       "version_major": 2,
       "version_minor": 0,
       "model_id": "611f77cae4e540b499c05425d7fe9774"
      }
     },
     "metadata": {},
     "output_type": "display_data"
    }
   ],
   "execution_count": 121
  }
 ],
 "metadata": {
  "kernelspec": {
   "display_name": "Python 3",
   "language": "python",
   "name": "python3"
  },
  "language_info": {
   "codemirror_mode": {
    "name": "ipython",
    "version": 2
   },
   "file_extension": ".py",
   "mimetype": "text/x-python",
   "name": "python",
   "nbconvert_exporter": "python",
   "pygments_lexer": "ipython2",
   "version": "2.7.6"
  }
 },
 "nbformat": 4,
 "nbformat_minor": 5
}
