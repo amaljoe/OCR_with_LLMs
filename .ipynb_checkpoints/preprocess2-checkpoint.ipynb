{
 "cells": [
  {
   "cell_type": "code",
   "execution_count": null,
   "id": "c468e0ba",
   "metadata": {},
   "outputs": [],
   "source": [
    "from asrtoolkit import wer, cer\n",
    "import cv2\n",
    "import io\n",
    "from fuzzywuzzy import fuzz\n",
    "import numpy as np\n",
    "import pytesseract\n",
    "from skimage import io as ioski\n",
    "from skimage.transform import rotate, resize\n",
    "from deskew import determine_skew"
   ]
  },
  {
   "cell_type": "code",
   "execution_count": null,
   "id": "8dc3db95",
   "metadata": {},
   "outputs": [],
   "source": []
  },
  {
   "cell_type": "code",
   "execution_count": 30,
   "id": "4c2003ce",
   "metadata": {},
   "outputs": [],
   "source": [
    "# sample_image = \"data/iam_form.png\"\n",
    "# image = cv2.imread(sample_image)\n",
    "# grayscale = cv2.cvtColor(image, cv2.COLOR_BGR2GRAY)\n",
    "# angle = determine_skew(grayscale)\n",
    "# print(angle)\n",
    "# rotated = rotate(image, angle, resize=True) * 255\n",
    "# print(type(rotated))\n",
    "# ioski.imsave(\"output_deskewed.png\", rotated.astype(np.uint8))\n"
   ]
  },
  {
   "cell_type": "code",
   "execution_count": 31,
   "id": "176486f4",
   "metadata": {},
   "outputs": [],
   "source": [
    "def pre_process_image(image):\n",
    "    img = cv2.imread(image)\n",
    "    img = cv2.resize(img, None, fx=.3, fy=.3) #resize using percentage\n",
    "    img = cv2.cvtColor(img, cv2.COLOR_BGR2RGB) #change color format from BGR to RGB\n",
    "    img = cv2.cvtColor(img, cv2.COLOR_BGR2GRAY) #format image to gray scale\n",
    "    img = cv2.adaptiveThreshold(img, 255, cv2.ADAPTIVE_THRESH_GAUSSIAN_C, cv2.THRESH_BINARY, 5, 11) #to remove background\n",
    "    return img"
   ]
  },
  {
   "cell_type": "code",
   "execution_count": 32,
   "id": "03a87d61",
   "metadata": {},
   "outputs": [],
   "source": [
    "def dskew_img(image):\n",
    "    # cv2output = io.imread(image)\n",
    "    image = cv2.imread(image)\n",
    "    cv2output = cv2.cvtColor(image, cv2.COLOR_BGR2GRAY)\n",
    "    angle = determine_skew(cv2output)\n",
    "    # print(\"angle rotation of image\",angle)\n",
    "    rotated = rotate(cv2output, angle, resize=True) * 255\n",
    "    return rotated"
   ]
  },
  {
   "cell_type": "code",
   "execution_count": 33,
   "id": "1d33cba9",
   "metadata": {},
   "outputs": [
    {
     "data": {
      "text/plain": [
       "True"
      ]
     },
     "execution_count": 33,
     "metadata": {},
     "output_type": "execute_result"
    }
   ],
   "source": [
    "# processed_img = pre_process_image(\"output_deskewed.png\")\n",
    "# cv2.imwrite(\"output_processed.png\",processed_img)\n",
    "# processed_img = pre_process_image(sample_image)\n",
    "# cv2.imwrite(\"output_no_deskewing.png\",processed_img)\n",
    "rotated = dskew_img(\"data/handwritten.png\")\n",
    "ioski.imsave(\"output_deskewed.png\", rotated.astype(np.uint8))\n",
    "processed_img = pre_process_image(\"output_deskewed.png\")\n",
    "cv2.imwrite(\"output_no_deskewing.png\",processed_img)"
   ]
  },
  {
   "cell_type": "code",
   "execution_count": 34,
   "id": "3fe48e89",
   "metadata": {},
   "outputs": [],
   "source": [
    "actual_text = \"And, since this is election year in West Germany, Dr. Adenauer is in a tough spot. Joyce Egginton cables: President Kennedy at his Washington Press conference admitted he did not know whether America was lagging behind Russia in missile power. He said he was waiting for his senior military aides to come up with the answer on February 20.\""
   ]
  },
  {
   "cell_type": "code",
   "execution_count": 37,
   "id": "ea5a21af",
   "metadata": {},
   "outputs": [
    {
     "name": "stdout",
     "output_type": "stream",
     "text": [
      "CER, WER, Rate : 66.36904761904762 108.47457627118644 46\n",
      "Sentence Database A01-077\n",
      "\n",
      "Aud | rue dass clchien gees fx Ohh\n",
      "Gatien , Lh. Fdecouns py re 6. dowtls\n",
      "Set. feye Egg iad ealrbo » Feesele.t\n",
      "Kisses ad, bey Daslictes fan Caz —\n",
      "ference oduct te diol aed bea\n",
      "tolalec Aneree Wo Leayiny helacl\n",
      "Rama. te triterl pews. Geraci ba\n",
      "wor wuaihiy frelss wales wwilidovg\n",
      "Rides f come Cry oid tle auias ox\n",
      "Febeaors, 09.\n",
      "\n",
      "\n"
     ]
    }
   ],
   "source": [
    "hypothesis = pytesseract.image_to_string(\"output_processed.png\")\n",
    "print(\"CER, WER, Rate :\",cer(actual_text, hypothesis),wer(actual_text, hypothesis),fuzz.ratio(actual_text, hypothesis))\n",
    "print(hypothesis)"
   ]
  },
  {
   "cell_type": "code",
   "execution_count": null,
   "id": "8cfe2e42",
   "metadata": {},
   "outputs": [],
   "source": []
  }
 ],
 "metadata": {
  "kernelspec": {
   "display_name": "Python 3 (ipykernel)",
   "language": "python",
   "name": "python3"
  },
  "language_info": {
   "codemirror_mode": {
    "name": "ipython",
    "version": 3
   },
   "file_extension": ".py",
   "mimetype": "text/x-python",
   "name": "python",
   "nbconvert_exporter": "python",
   "pygments_lexer": "ipython3",
   "version": "3.12.3"
  }
 },
 "nbformat": 4,
 "nbformat_minor": 5
}
