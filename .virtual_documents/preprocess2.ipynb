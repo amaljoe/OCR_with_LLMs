from asrtoolkit import wer, cer
import cv2
import io
from fuzzywuzzy import fuzz
import numpy as np
import pytesseract
from skimage import io as ioski
from skimage.transform import rotate, resize
from deskew import determine_skew





# sample_image = "data/iam_form.png"
# image = cv2.imread(sample_image)
# grayscale = cv2.cvtColor(image, cv2.COLOR_BGR2GRAY)
# angle = determine_skew(grayscale)
# print(angle)
# rotated = rotate(image, angle, resize=True) * 255
# print(type(rotated))
# ioski.imsave("output_deskewed.png", rotated.astype(np.uint8))



def pre_process_image(image):
    img = cv2.imread(image)
    img = cv2.resize(img, None, fx=.3, fy=.3) #resize using percentage
    img = cv2.cvtColor(img, cv2.COLOR_BGR2RGB) #change color format from BGR to RGB
    img = cv2.cvtColor(img, cv2.COLOR_BGR2GRAY) #format image to gray scale
    img = cv2.adaptiveThreshold(img, 255, cv2.ADAPTIVE_THRESH_GAUSSIAN_C, cv2.THRESH_BINARY, 5, 11) #to remove background
    return img


def dskew_img(image):
    # cv2output = io.imread(image)
    image = cv2.imread(image)
    cv2output = cv2.cvtColor(image, cv2.COLOR_BGR2GRAY)
    angle = determine_skew(cv2output)
    # print("angle rotation of image",angle)
    rotated = rotate(cv2output, angle, resize=True) * 255
    return rotated


# processed_img = pre_process_image("output_deskewed.png")
# cv2.imwrite("output_processed.png",processed_img)
# processed_img = pre_process_image(sample_image)
# cv2.imwrite("output_no_deskewing.png",processed_img)
rotated = dskew_img("data/handwritten.png")
ioski.imsave("output_deskewed.png", rotated.astype(np.uint8))
processed_img = pre_process_image("output_deskewed.png")
cv2.imwrite("output_no_deskewing.png",processed_img)


actual_text = "And, since this is election year in West Germany, Dr. Adenauer is in a tough spot. Joyce Egginton cables: President Kennedy at his Washington Press conference admitted he did not know whether America was lagging behind Russia in missile power. He said he was waiting for his senior military aides to come up with the answer on February 20."


hypothesis = pytesseract.image_to_string("output_processed.png")
print("CER, WER, Rate :",cer(actual_text, hypothesis),wer(actual_text, hypothesis),fuzz.ratio(actual_text, hypothesis))
print(hypothesis)



