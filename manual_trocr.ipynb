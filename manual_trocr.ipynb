{
 "cells": [
  {
   "metadata": {
    "ExecuteTime": {
     "end_time": "2024-11-26T05:50:31.687281Z",
     "start_time": "2024-11-26T05:50:13.383140Z"
    }
   },
   "cell_type": "code",
   "source": [
    "from transformers import MarianMTModel, MarianTokenizer, VisionEncoderDecoderModel, TrOCRProcessor, AutoTokenizer\n",
    "import torch\n",
    "from transformers import AutoTokenizer\n",
    "\n",
    "device = \"cuda\" if torch.cuda.is_available() else \"mps\" if torch.backends.mps.is_available() else \"cpu\"\n",
    "\n",
    "tokenizer = AutoTokenizer.from_pretrained(\"FacebookAI/roberta-base\")\n",
    "processor = TrOCRProcessor.from_pretrained('microsoft/trocr-large-handwritten')\n",
    "trocr_model = VisionEncoderDecoderModel.from_pretrained('microsoft/trocr-large-handwritten').to(device)"
   ],
   "id": "bcfa2b20e9d0e239",
   "outputs": [
    {
     "name": "stderr",
     "output_type": "stream",
     "text": [
      "/Users/amaljoe/Desktop/Workspace/IITB/NLP/OCR_with_LLMs/.venv/lib/python3.9/site-packages/urllib3/__init__.py:35: NotOpenSSLWarning: urllib3 v2 only supports OpenSSL 1.1.1+, currently the 'ssl' module is compiled with 'LibreSSL 2.8.3'. See: https://github.com/urllib3/urllib3/issues/3020\n",
      "  warnings.warn(\n",
      "Config of the encoder: <class 'transformers.models.vit.modeling_vit.ViTModel'> is overwritten by shared encoder config: ViTConfig {\n",
      "  \"attention_probs_dropout_prob\": 0.0,\n",
      "  \"encoder_stride\": 16,\n",
      "  \"hidden_act\": \"gelu\",\n",
      "  \"hidden_dropout_prob\": 0.0,\n",
      "  \"hidden_size\": 1024,\n",
      "  \"image_size\": 384,\n",
      "  \"initializer_range\": 0.02,\n",
      "  \"intermediate_size\": 4096,\n",
      "  \"layer_norm_eps\": 1e-12,\n",
      "  \"model_type\": \"vit\",\n",
      "  \"num_attention_heads\": 16,\n",
      "  \"num_channels\": 3,\n",
      "  \"num_hidden_layers\": 24,\n",
      "  \"patch_size\": 16,\n",
      "  \"qkv_bias\": false,\n",
      "  \"transformers_version\": \"4.46.2\"\n",
      "}\n",
      "\n",
      "Config of the decoder: <class 'transformers.models.trocr.modeling_trocr.TrOCRForCausalLM'> is overwritten by shared decoder config: TrOCRConfig {\n",
      "  \"activation_dropout\": 0.0,\n",
      "  \"activation_function\": \"gelu\",\n",
      "  \"add_cross_attention\": true,\n",
      "  \"attention_dropout\": 0.0,\n",
      "  \"bos_token_id\": 0,\n",
      "  \"classifier_dropout\": 0.0,\n",
      "  \"cross_attention_hidden_size\": 1024,\n",
      "  \"d_model\": 1024,\n",
      "  \"decoder_attention_heads\": 16,\n",
      "  \"decoder_ffn_dim\": 4096,\n",
      "  \"decoder_layerdrop\": 0.0,\n",
      "  \"decoder_layers\": 12,\n",
      "  \"decoder_start_token_id\": 2,\n",
      "  \"dropout\": 0.1,\n",
      "  \"eos_token_id\": 2,\n",
      "  \"init_std\": 0.02,\n",
      "  \"is_decoder\": true,\n",
      "  \"layernorm_embedding\": true,\n",
      "  \"max_position_embeddings\": 512,\n",
      "  \"model_type\": \"trocr\",\n",
      "  \"pad_token_id\": 1,\n",
      "  \"scale_embedding\": false,\n",
      "  \"transformers_version\": \"4.46.2\",\n",
      "  \"use_cache\": false,\n",
      "  \"use_learned_position_embeddings\": true,\n",
      "  \"vocab_size\": 50265\n",
      "}\n",
      "\n",
      "Some weights of VisionEncoderDecoderModel were not initialized from the model checkpoint at microsoft/trocr-large-handwritten and are newly initialized: ['encoder.pooler.dense.bias', 'encoder.pooler.dense.weight']\n",
      "You should probably TRAIN this model on a down-stream task to be able to use it for predictions and inference.\n"
     ]
    }
   ],
   "execution_count": 1
  },
  {
   "metadata": {
    "ExecuteTime": {
     "end_time": "2024-11-26T05:50:56.012551Z",
     "start_time": "2024-11-26T05:50:55.972245Z"
    }
   },
   "cell_type": "code",
   "source": [
    "from PIL import Image\n",
    "\n",
    "# create ids of encoded input vectors\n",
    "filepath = 'data/ss2.png'\n",
    "image = Image.open(filepath).convert(\"RGB\")\n",
    "pixel_values = processor(images=image, return_tensors=\"pt\").pixel_values.to(device)"
   ],
   "id": "c76885bf34c291ff",
   "outputs": [],
   "execution_count": 5
  },
  {
   "metadata": {
    "ExecuteTime": {
     "end_time": "2024-11-26T05:51:18.734393Z",
     "start_time": "2024-11-26T05:51:18.723348Z"
    }
   },
   "cell_type": "code",
   "source": [
    "# create BOS token\n",
    "decoder_input_ids = tokenizer(\"[bos]\", add_special_tokens=False, return_tensors=\"pt\").input_ids.to(device)\n",
    "decoder_input_ids"
   ],
   "id": "3ccd3fe3f77a064c",
   "outputs": [
    {
     "data": {
      "text/plain": [
       "tensor([[10975, 31957,   742]], device='mps:0')"
      ]
     },
     "execution_count": 7,
     "metadata": {},
     "output_type": "execute_result"
    }
   ],
   "execution_count": 7
  },
  {
   "metadata": {
    "ExecuteTime": {
     "end_time": "2024-11-25T15:56:32.898883Z",
     "start_time": "2024-11-25T15:56:32.859182Z"
    }
   },
   "cell_type": "code",
   "source": "assert decoder_input_ids[0, 0].item() == trocr_model.config.decoder_start_token_id, \"`decoder_input_ids` should correspond to `model.config.decoder_start_token_id`\"",
   "id": "ba3711a994992614",
   "outputs": [
    {
     "ename": "AssertionError",
     "evalue": "`decoder_input_ids` should correspond to `model.config.decoder_start_token_id`",
     "output_type": "error",
     "traceback": [
      "\u001B[0;31m---------------------------------------------------------------------------\u001B[0m",
      "\u001B[0;31mAssertionError\u001B[0m                            Traceback (most recent call last)",
      "Cell \u001B[0;32mIn[21], line 1\u001B[0m\n\u001B[0;32m----> 1\u001B[0m \u001B[38;5;28;01massert\u001B[39;00m decoder_input_ids[\u001B[38;5;241m0\u001B[39m, \u001B[38;5;241m0\u001B[39m]\u001B[38;5;241m.\u001B[39mitem() \u001B[38;5;241m==\u001B[39m trocr_model\u001B[38;5;241m.\u001B[39mconfig\u001B[38;5;241m.\u001B[39mdecoder_start_token_id, \u001B[38;5;124m\"\u001B[39m\u001B[38;5;124m`decoder_input_ids` should correspond to `model.config.decoder_start_token_id`\u001B[39m\u001B[38;5;124m\"\u001B[39m\n",
      "\u001B[0;31mAssertionError\u001B[0m: `decoder_input_ids` should correspond to `model.config.decoder_start_token_id`"
     ]
    }
   ],
   "execution_count": 21
  },
  {
   "metadata": {
    "ExecuteTime": {
     "end_time": "2024-11-26T05:51:21.361753Z",
     "start_time": "2024-11-26T05:51:21.130309Z"
    }
   },
   "cell_type": "code",
   "source": [
    "# STEP 1\n",
    "\n",
    "# pass input_ids to encoder and to decoder and pass BOS token to decoder to retrieve first logit\n",
    "outputs = trocr_model(pixel_values, decoder_input_ids=decoder_input_ids, return_dict=True)"
   ],
   "id": "a2346c7be8526a97",
   "outputs": [],
   "execution_count": 8
  },
  {
   "metadata": {
    "ExecuteTime": {
     "end_time": "2024-11-26T05:51:54.139827Z",
     "start_time": "2024-11-26T05:51:54.129442Z"
    }
   },
   "cell_type": "code",
   "source": [
    "# get encoded sequence\n",
    "encoded_sequence = (outputs.encoder_last_hidden_state,)\n",
    "# get logits\n",
    "lm_logits = outputs.logits\n",
    "\n",
    "# sample last token with highest prob\n",
    "next_decoder_input_ids = torch.argmax(lm_logits[:, -1:], axis=-1)\n",
    "\n",
    "next_decoder_input_ids"
   ],
   "id": "90025331d584fcaf",
   "outputs": [
    {
     "data": {
      "text/plain": [
       "tensor([[195]], device='mps:0')"
      ]
     },
     "execution_count": 10,
     "metadata": {},
     "output_type": "execute_result"
    }
   ],
   "execution_count": 10
  },
  {
   "metadata": {
    "ExecuteTime": {
     "end_time": "2024-11-26T05:52:14.939525Z",
     "start_time": "2024-11-26T05:52:14.917290Z"
    }
   },
   "cell_type": "code",
   "source": [
    "# concat\n",
    "decoder_input_ids = torch.cat([decoder_input_ids, next_decoder_input_ids], axis=-1)\n",
    "decoder_input_ids"
   ],
   "id": "6392e05c374b3ade",
   "outputs": [
    {
     "data": {
      "text/plain": [
       "tensor([[10975, 31957,   742,   195]], device='mps:0')"
      ]
     },
     "execution_count": 11,
     "metadata": {},
     "output_type": "execute_result"
    }
   ],
   "execution_count": 11
  },
  {
   "metadata": {
    "ExecuteTime": {
     "end_time": "2024-11-26T05:53:26.375524Z",
     "start_time": "2024-11-26T05:53:26.364330Z"
    }
   },
   "cell_type": "code",
   "source": "tokenizer.decode(decoder_input_ids[0], skip_special_tokens=True)",
   "id": "e2d4a2db56232d61",
   "outputs": [
    {
     "data": {
      "text/plain": [
       "'[bos] 5'"
      ]
     },
     "execution_count": 12,
     "metadata": {},
     "output_type": "execute_result"
    }
   ],
   "execution_count": 12
  },
  {
   "metadata": {
    "ExecuteTime": {
     "end_time": "2024-11-26T05:54:00.169460Z",
     "start_time": "2024-11-26T05:54:00.015101Z"
    }
   },
   "cell_type": "code",
   "source": [
    "# STEP 2\n",
    "\n",
    "# reuse encoded_inputs and pass BOS + \"Ich\" to decoder to second logit\n",
    "lm_logits = trocr_model(None, encoder_outputs=encoded_sequence, decoder_input_ids=decoder_input_ids, return_dict=True).logits\n",
    "\n",
    "# sample last token with highest prob again\n",
    "next_decoder_input_ids = torch.argmax(lm_logits[:, -1:], axis=-1)\n",
    "\n",
    "# concat again\n",
    "decoder_input_ids = torch.cat([decoder_input_ids, next_decoder_input_ids], axis=-1)\n",
    "tokenizer.decode(decoder_input_ids[0], skip_special_tokens=True)"
   ],
   "id": "39ed9750ef5c507d",
   "outputs": [
    {
     "data": {
      "text/plain": [
       "'[bos] 5-'"
      ]
     },
     "execution_count": 13,
     "metadata": {},
     "output_type": "execute_result"
    }
   ],
   "execution_count": 13
  },
  {
   "metadata": {
    "ExecuteTime": {
     "end_time": "2024-11-26T05:55:41.882258Z",
     "start_time": "2024-11-26T05:55:41.720609Z"
    }
   },
   "cell_type": "code",
   "source": [
    "\n",
    "# STEP 3\n",
    "lm_logits = trocr_model(None, encoder_outputs=encoded_sequence, decoder_input_ids=decoder_input_ids, return_dict=True).logits\n",
    "next_decoder_input_ids = torch.argmax(lm_logits[:, -1:], axis=-1)\n",
    "decoder_input_ids = torch.cat([decoder_input_ids, next_decoder_input_ids], axis=-1)\n",
    "\n",
    "# let's see what we have generated so far!\n",
    "print(f\"Generated so far: {tokenizer.decode(decoder_input_ids[0], skip_special_tokens=True)}\")\n",
    "\n",
    "# This can be written in a loop as well.\n"
   ],
   "id": "ed6ece80a4c09a09",
   "outputs": [
    {
     "name": "stdout",
     "output_type": "stream",
     "text": [
      "Generated so far: [bos] 5-10\n"
     ]
    }
   ],
   "execution_count": 14
  }
 ],
 "metadata": {
  "kernelspec": {
   "display_name": "Python 3",
   "language": "python",
   "name": "python3"
  },
  "language_info": {
   "codemirror_mode": {
    "name": "ipython",
    "version": 2
   },
   "file_extension": ".py",
   "mimetype": "text/x-python",
   "name": "python",
   "nbconvert_exporter": "python",
   "pygments_lexer": "ipython2",
   "version": "2.7.6"
  }
 },
 "nbformat": 4,
 "nbformat_minor": 5
}
