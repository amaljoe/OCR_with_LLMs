{
 "cells": [
  {
   "metadata": {
    "ExecuteTime": {
     "end_time": "2024-11-20T11:32:17.640513Z",
     "start_time": "2024-11-20T11:32:07.488471Z"
    }
   },
   "cell_type": "code",
   "source": [
    "import numpy as np\n",
    "from transformers import TrOCRProcessor, VisionEncoderDecoderModel\n",
    "from PIL import Image\n",
    "\n",
    "filepath = 'data/ss2.png'\n",
    "image = Image.open(filepath).convert(\"RGB\")\n",
    "\n",
    "processor = TrOCRProcessor.from_pretrained('microsoft/trocr-large-handwritten')\n",
    "model = VisionEncoderDecoderModel.from_pretrained('microsoft/trocr-large-handwritten')\n",
    "pixel_values = processor(images=image, return_tensors=\"pt\").pixel_values"
   ],
   "id": "59cb96c39c364103",
   "outputs": [
    {
     "name": "stderr",
     "output_type": "stream",
     "text": [
      "Config of the encoder: <class 'transformers.models.vit.modeling_vit.ViTModel'> is overwritten by shared encoder config: ViTConfig {\n",
      "  \"attention_probs_dropout_prob\": 0.0,\n",
      "  \"encoder_stride\": 16,\n",
      "  \"hidden_act\": \"gelu\",\n",
      "  \"hidden_dropout_prob\": 0.0,\n",
      "  \"hidden_size\": 1024,\n",
      "  \"image_size\": 384,\n",
      "  \"initializer_range\": 0.02,\n",
      "  \"intermediate_size\": 4096,\n",
      "  \"layer_norm_eps\": 1e-12,\n",
      "  \"model_type\": \"vit\",\n",
      "  \"num_attention_heads\": 16,\n",
      "  \"num_channels\": 3,\n",
      "  \"num_hidden_layers\": 24,\n",
      "  \"patch_size\": 16,\n",
      "  \"qkv_bias\": false,\n",
      "  \"transformers_version\": \"4.46.2\"\n",
      "}\n",
      "\n",
      "Config of the decoder: <class 'transformers.models.trocr.modeling_trocr.TrOCRForCausalLM'> is overwritten by shared decoder config: TrOCRConfig {\n",
      "  \"activation_dropout\": 0.0,\n",
      "  \"activation_function\": \"gelu\",\n",
      "  \"add_cross_attention\": true,\n",
      "  \"attention_dropout\": 0.0,\n",
      "  \"bos_token_id\": 0,\n",
      "  \"classifier_dropout\": 0.0,\n",
      "  \"cross_attention_hidden_size\": 1024,\n",
      "  \"d_model\": 1024,\n",
      "  \"decoder_attention_heads\": 16,\n",
      "  \"decoder_ffn_dim\": 4096,\n",
      "  \"decoder_layerdrop\": 0.0,\n",
      "  \"decoder_layers\": 12,\n",
      "  \"decoder_start_token_id\": 2,\n",
      "  \"dropout\": 0.1,\n",
      "  \"eos_token_id\": 2,\n",
      "  \"init_std\": 0.02,\n",
      "  \"is_decoder\": true,\n",
      "  \"layernorm_embedding\": true,\n",
      "  \"max_position_embeddings\": 512,\n",
      "  \"model_type\": \"trocr\",\n",
      "  \"pad_token_id\": 1,\n",
      "  \"scale_embedding\": false,\n",
      "  \"transformers_version\": \"4.46.2\",\n",
      "  \"use_cache\": false,\n",
      "  \"use_learned_position_embeddings\": true,\n",
      "  \"vocab_size\": 50265\n",
      "}\n",
      "\n",
      "Some weights of VisionEncoderDecoderModel were not initialized from the model checkpoint at microsoft/trocr-large-handwritten and are newly initialized: ['encoder.pooler.dense.bias', 'encoder.pooler.dense.weight']\n",
      "You should probably TRAIN this model on a down-stream task to be able to use it for predictions and inference.\n"
     ]
    }
   ],
   "execution_count": 7
  },
  {
   "metadata": {
    "ExecuteTime": {
     "end_time": "2024-11-20T11:45:23.387673Z",
     "start_time": "2024-11-20T11:45:22.230020Z"
    }
   },
   "cell_type": "code",
   "source": "generated_ids = model.generate(pixel_values, max_new_tokens=1)",
   "id": "941ff0a01f29ac10",
   "outputs": [
    {
     "name": "stdout",
     "output_type": "stream",
     "text": [
      "tensor([[    2, 34603,   195,    12,   698, 10437, 28975,    36,   683,    38,\n",
      "           120,  4839,     2]])\n"
     ]
    }
   ],
   "execution_count": 32
  },
  {
   "metadata": {},
   "cell_type": "code",
   "outputs": [],
   "execution_count": null,
   "source": [
    "generated_text = processor.batch_decode(generated_ids, skip_special_tokens=True)[0]\n",
    "generated_text"
   ],
   "id": "444840a30c15f518"
  },
  {
   "metadata": {
    "ExecuteTime": {
     "end_time": "2024-11-20T11:30:56.624730Z",
     "start_time": "2024-11-20T11:30:54.970804Z"
    }
   },
   "cell_type": "code",
   "source": "!pip install quanto",
   "id": "7be4c8b5ad07336c",
   "outputs": [
    {
     "name": "stdout",
     "output_type": "stream",
     "text": [
      "Collecting quanto\r\n",
      "  Obtaining dependency information for quanto from https://files.pythonhosted.org/packages/06/22/89e363878024a21b0093f69c7040c33715ff52cd0cbfb1ac91a0977f511f/quanto-0.2.0-py3-none-any.whl.metadata\r\n",
      "  Downloading quanto-0.2.0-py3-none-any.whl.metadata (10 kB)\r\n",
      "Requirement already satisfied: torch>=2.2.0 in ./.venv/lib/python3.9/site-packages (from quanto) (2.5.1)\r\n",
      "Requirement already satisfied: ninja in ./.venv/lib/python3.9/site-packages (from quanto) (1.11.1.1)\r\n",
      "Requirement already satisfied: numpy in ./.venv/lib/python3.9/site-packages (from quanto) (2.0.2)\r\n",
      "Requirement already satisfied: safetensors in ./.venv/lib/python3.9/site-packages (from quanto) (0.4.5)\r\n",
      "Requirement already satisfied: filelock in ./.venv/lib/python3.9/site-packages (from torch>=2.2.0->quanto) (3.16.1)\r\n",
      "Requirement already satisfied: typing-extensions>=4.8.0 in ./.venv/lib/python3.9/site-packages (from torch>=2.2.0->quanto) (4.12.2)\r\n",
      "Requirement already satisfied: networkx in ./.venv/lib/python3.9/site-packages (from torch>=2.2.0->quanto) (3.2.1)\r\n",
      "Requirement already satisfied: jinja2 in ./.venv/lib/python3.9/site-packages (from torch>=2.2.0->quanto) (3.1.4)\r\n",
      "Requirement already satisfied: fsspec in ./.venv/lib/python3.9/site-packages (from torch>=2.2.0->quanto) (2024.9.0)\r\n",
      "Requirement already satisfied: sympy==1.13.1 in ./.venv/lib/python3.9/site-packages (from torch>=2.2.0->quanto) (1.13.1)\r\n",
      "Requirement already satisfied: mpmath<1.4,>=1.1.0 in ./.venv/lib/python3.9/site-packages (from sympy==1.13.1->torch>=2.2.0->quanto) (1.3.0)\r\n",
      "Requirement already satisfied: MarkupSafe>=2.0 in ./.venv/lib/python3.9/site-packages (from jinja2->torch>=2.2.0->quanto) (3.0.2)\r\n",
      "Downloading quanto-0.2.0-py3-none-any.whl (90 kB)\r\n",
      "\u001B[2K   \u001B[90m━━━━━━━━━━━━━━━━━━━━━━━━━━━━━━━━━━━━━━━━\u001B[0m \u001B[32m90.0/90.0 kB\u001B[0m \u001B[31m7.1 MB/s\u001B[0m eta \u001B[36m0:00:00\u001B[0m\r\n",
      "\u001B[?25hInstalling collected packages: quanto\r\n",
      "Successfully installed quanto-0.2.0\r\n",
      "\r\n",
      "\u001B[1m[\u001B[0m\u001B[34;49mnotice\u001B[0m\u001B[1;39;49m]\u001B[0m\u001B[39;49m A new release of pip is available: \u001B[0m\u001B[31;49m23.2.1\u001B[0m\u001B[39;49m -> \u001B[0m\u001B[32;49m24.3.1\u001B[0m\r\n",
      "\u001B[1m[\u001B[0m\u001B[34;49mnotice\u001B[0m\u001B[1;39;49m]\u001B[0m\u001B[39;49m To update, run: \u001B[0m\u001B[32;49mpip install --upgrade pip\u001B[0m\r\n"
     ]
    }
   ],
   "execution_count": 2
  },
  {
   "metadata": {
    "ExecuteTime": {
     "end_time": "2024-11-20T11:31:59.310538Z",
     "start_time": "2024-11-20T11:31:38.423297Z"
    }
   },
   "cell_type": "code",
   "source": [
    "from transformers import AutoModelForCausalLM, AutoTokenizer, QuantoConfig\n",
    "\n",
    "quantization_config = QuantoConfig(load_in_8bit=True)\n",
    "\n",
    "\n",
    "\n",
    "# Load the LLaMA model and tokenizer\n",
    "llama_tokenizer = AutoTokenizer.from_pretrained(\"meta-llama/Llama-3.1-8B-Instruct\")\n",
    "llama_model = AutoModelForCausalLM.from_pretrained(\n",
    "    \"meta-llama/Llama-3.1-8B-Instruct\",\n",
    "    quantization_config=quantization_config,\n",
    "    device_map='auto'\n",
    ")"
   ],
   "id": "d4ff847b08fb6337",
   "outputs": [
    {
     "data": {
      "text/plain": [
       "Loading checkpoint shards:   0%|          | 0/4 [00:00<?, ?it/s]"
      ],
      "application/vnd.jupyter.widget-view+json": {
       "version_major": 2,
       "version_minor": 0,
       "model_id": "82b8a94c2e5642d6b8fb852b6698949e"
      }
     },
     "metadata": {},
     "output_type": "display_data"
    }
   ],
   "execution_count": 4
  },
  {
   "metadata": {
    "ExecuteTime": {
     "end_time": "2024-11-20T11:31:59.322401Z",
     "start_time": "2024-11-20T11:31:59.320099Z"
    }
   },
   "cell_type": "code",
   "source": "llama_model.device",
   "id": "f33dcdaf26254ffc",
   "outputs": [
    {
     "data": {
      "text/plain": [
       "device(type='mps', index=0)"
      ]
     },
     "execution_count": 5,
     "metadata": {},
     "output_type": "execute_result"
    }
   ],
   "execution_count": 5
  },
  {
   "metadata": {},
   "cell_type": "code",
   "outputs": [],
   "execution_count": null,
   "source": "",
   "id": "4e039d7ef8120f79"
  },
  {
   "metadata": {
    "ExecuteTime": {
     "end_time": "2024-11-20T11:36:54.240315Z",
     "start_time": "2024-11-20T11:36:53.768858Z"
    }
   },
   "cell_type": "code",
   "source": [
    "# Feed the current token to LLaMA\n",
    "prompt = f\"Generate the next token after: {generated_text}\"\n",
    "input_ids = llama_tokenizer(prompt, return_tensors=\"pt\").input_ids.to(llama_model.device)\n",
    "\n",
    "# Generate the next token\n",
    "llama_output = llama_model.generate(input_ids, max_new_tokens=1)\n",
    "predicted_token = llama_tokenizer.decode(llama_output[0][-2:], skip_special_tokens=True)\n",
    "print(\"Predicted token from LLaMA:\", predicted_token)"
   ],
   "id": "f9fdccef80ea502d",
   "outputs": [
    {
     "name": "stderr",
     "output_type": "stream",
     "text": [
      "The attention mask and the pad token id were not set. As a consequence, you may observe unexpected behavior. Please pass your input's `attention_mask` to obtain reliable results.\n",
      "Setting `pad_token_id` to `eos_token_id`:None for open-end generation.\n"
     ]
    },
    {
     "name": "stdout",
     "output_type": "stream",
     "text": [
      "Predicted token from LLaMA:  Test the\n"
     ]
    }
   ],
   "execution_count": 22
  },
  {
   "metadata": {
    "ExecuteTime": {
     "end_time": "2024-11-20T11:36:56.361743Z",
     "start_time": "2024-11-20T11:36:55.944843Z"
    }
   },
   "cell_type": "code",
   "source": [
    "# Add the token predicted by LLaMA to TrOCR's decoder input\n",
    "decoder_input_ids = processor.tokenizer(predicted_token, return_tensors=\"pt\").input_ids\n",
    "generated_ids = model.generate(\n",
    "    pixel_values,\n",
    "    decoder_input_ids=decoder_input_ids,\n",
    "    max_new_tokens=1\n",
    ")\n",
    "next_token = processor.batch_decode(generated_ids, skip_special_tokens=True)[-1]\n",
    "print(\"Next token predicted by TrOCR:\", next_token)"
   ],
   "id": "fa26dbd5d7aba85e",
   "outputs": [
    {
     "name": "stdout",
     "output_type": "stream",
     "text": [
      "Next token predicted by TrOCR:  Test the valuation\n"
     ]
    }
   ],
   "execution_count": 23
  },
  {
   "metadata": {
    "ExecuteTime": {
     "end_time": "2024-11-20T11:45:44.107762Z",
     "start_time": "2024-11-20T11:45:44.100747Z"
    }
   },
   "cell_type": "code",
   "source": [
    "import numpy as np\n",
    "\n",
    "vocab_size = 50265\n",
    "\n",
    "all_ids = np.arange(vocab_size).reshape(1, -1)\n",
    "\n",
    "# Get the corresponding text for each token ID\n",
    "text = []\n",
    "for id in all_ids[0]:\n",
    "    text.append(processor.tokenizer.decode(id))"
   ],
   "id": "d5274149ba81a41d",
   "outputs": [
    {
     "data": {
      "text/plain": [
       "['<s>',\n",
       " '<pad>',\n",
       " '</s>',\n",
       " '<unk>',\n",
       " '.',\n",
       " ' the',\n",
       " ',',\n",
       " ' to',\n",
       " ' and',\n",
       " ' of',\n",
       " ' a',\n",
       " ' in',\n",
       " '-',\n",
       " ' for',\n",
       " ' that',\n",
       " ' on',\n",
       " ' is',\n",
       " '�',\n",
       " \"'s\",\n",
       " ' with',\n",
       " ' The',\n",
       " ' was',\n",
       " ' \"',\n",
       " ' at',\n",
       " ' it',\n",
       " ' as',\n",
       " ' said',\n",
       " '�',\n",
       " ' be',\n",
       " 's',\n",
       " ' by',\n",
       " ' from',\n",
       " ' are',\n",
       " ' have',\n",
       " ' has',\n",
       " ':',\n",
       " ' (',\n",
       " ' he',\n",
       " ' I',\n",
       " ' his',\n",
       " ' will',\n",
       " ' an',\n",
       " ' this',\n",
       " ')',\n",
       " ' �',\n",
       " ' not',\n",
       " '�',\n",
       " ' you',\n",
       " '�',\n",
       " ' their',\n",
       " ' or',\n",
       " ' they',\n",
       " ' we',\n",
       " ' but',\n",
       " ' who',\n",
       " ' more',\n",
       " ' had',\n",
       " ' been',\n",
       " ' were',\n",
       " ' about',\n",
       " ',\"',\n",
       " ' which',\n",
       " ' up',\n",
       " ' its',\n",
       " ' can',\n",
       " ' one',\n",
       " ' out',\n",
       " ' also',\n",
       " ' $',\n",
       " ' her',\n",
       " ' all',\n",
       " ' after',\n",
       " '.\"',\n",
       " '/',\n",
       " ' would',\n",
       " \"'t\",\n",
       " ' year',\n",
       " ' when',\n",
       " ' first',\n",
       " ' she',\n",
       " ' two',\n",
       " ' over',\n",
       " ' people',\n",
       " ' A',\n",
       " ' our',\n",
       " ' It',\n",
       " ' time',\n",
       " ' than',\n",
       " ' into',\n",
       " ' there',\n",
       " 't',\n",
       " ' He',\n",
       " ' new',\n",
       " ' —',\n",
       " ' last',\n",
       " ' just',\n",
       " ' In',\n",
       " ' other',\n",
       " ' so',\n",
       " ' what',\n",
       " 'I',\n",
       " ' like',\n",
       " 'a',\n",
       " ' some',\n",
       " 'S',\n",
       " 'ë',\n",
       " ' them',\n",
       " ' years',\n",
       " \"'\",\n",
       " ' do',\n",
       " ' your',\n",
       " ' -',\n",
       " ' 1',\n",
       " '\"',\n",
       " ' if',\n",
       " ' could',\n",
       " '?',\n",
       " ' no',\n",
       " 'i',\n",
       " 'm',\n",
       " ' get',\n",
       " ' U',\n",
       " ' now',\n",
       " ' him',\n",
       " ' back',\n",
       " ' But',\n",
       " ' –',\n",
       " ' my',\n",
       " \" '\",\n",
       " ' only',\n",
       " ' three',\n",
       " ';',\n",
       " ' 2',\n",
       " 'The',\n",
       " '1',\n",
       " ' percent',\n",
       " ' against',\n",
       " ' before',\n",
       " ' company',\n",
       " 'o',\n",
       " ' Trump',\n",
       " ' how',\n",
       " ' because',\n",
       " ' any',\n",
       " ' most',\n",
       " ' being',\n",
       " ' make',\n",
       " ' where',\n",
       " ' during',\n",
       " ' through',\n",
       " ' while',\n",
       " '000',\n",
       " ' This',\n",
       " ' million',\n",
       " 'ing',\n",
       " ' 3',\n",
       " ' made',\n",
       " ' well',\n",
       " ' 10',\n",
       " ' down',\n",
       " ' off',\n",
       " ' says',\n",
       " ' me',\n",
       " ' B',\n",
       " ' going',\n",
       " ' team',\n",
       " ' We',\n",
       " ' those',\n",
       " ' government',\n",
       " ' way',\n",
       " 'We',\n",
       " ' many',\n",
       " ' then',\n",
       " ' work',\n",
       " ' told',\n",
       " 'com',\n",
       " '2',\n",
       " ' game',\n",
       " ' And',\n",
       " 'in',\n",
       " 'year',\n",
       " ' p',\n",
       " ' very',\n",
       " ' day',\n",
       " ' home',\n",
       " ' take',\n",
       " ' week',\n",
       " ' since',\n",
       " ' New',\n",
       " ' may',\n",
       " ' even',\n",
       " ' season',\n",
       " ' see',\n",
       " ' 2017',\n",
       " ' state',\n",
       " ' 5']"
      ]
     },
     "execution_count": 33,
     "metadata": {},
     "output_type": "execute_result"
    }
   ],
   "execution_count": 33
  },
  {
   "metadata": {
    "ExecuteTime": {
     "end_time": "2024-11-20T11:47:52.931570Z",
     "start_time": "2024-11-20T11:47:52.287142Z"
    }
   },
   "cell_type": "code",
   "source": [
    "# Get text for all llama tokens\n",
    "\n",
    "llama_vocab_size = llama_tokenizer.vocab_size\n",
    "\n",
    "llama_all_ids = np.arange(llama_vocab_size).reshape(1, -1)\n",
    "\n",
    "llama_text = []\n",
    "for id in llama_all_ids[0]:\n",
    "    llama_text.append(llama_tokenizer.decode(id))\n",
    "\n",
    "llama_text[300:340]"
   ],
   "id": "8264dded51c64dad",
   "outputs": [
    {
     "data": {
      "text/plain": [
       "['as',\n",
       " 'el',\n",
       " 'ct',\n",
       " 'nd',\n",
       " ' in',\n",
       " ' h',\n",
       " 'ent',\n",
       " 'id',\n",
       " ' n',\n",
       " 'am',\n",
       " '           ',\n",
       " ' to',\n",
       " ' re',\n",
       " '--',\n",
       " ' {',\n",
       " ' of',\n",
       " 'om',\n",
       " ');\\n',\n",
       " 'im',\n",
       " '\\r\\n',\n",
       " ' (',\n",
       " 'il',\n",
       " '//',\n",
       " ' and',\n",
       " 'ur',\n",
       " 'se',\n",
       " ' l',\n",
       " 'ex',\n",
       " ' S',\n",
       " 'ad',\n",
       " ' \"',\n",
       " 'ch',\n",
       " 'ut',\n",
       " 'if',\n",
       " '**',\n",
       " ' }',\n",
       " 'em',\n",
       " 'ol',\n",
       " '                ',\n",
       " 'th']"
      ]
     },
     "execution_count": 37,
     "metadata": {},
     "output_type": "execute_result"
    }
   ],
   "execution_count": 37
  }
 ],
 "metadata": {
  "kernelspec": {
   "display_name": "Python 3",
   "language": "python",
   "name": "python3"
  },
  "language_info": {
   "codemirror_mode": {
    "name": "ipython",
    "version": 2
   },
   "file_extension": ".py",
   "mimetype": "text/x-python",
   "name": "python",
   "nbconvert_exporter": "python",
   "pygments_lexer": "ipython2",
   "version": "2.7.6"
  }
 },
 "nbformat": 4,
 "nbformat_minor": 5
}
