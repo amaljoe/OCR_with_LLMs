{
 "cells": [
  {
   "metadata": {
    "ExecuteTime": {
     "end_time": "2024-11-26T08:51:35.743961Z",
     "start_time": "2024-11-26T08:45:05.052390Z"
    }
   },
   "cell_type": "code",
   "source": [
    "from pycparser.ply.yacc import token\n",
    "from ultralytics import YOLO\n",
    "from transformers import TrOCRProcessor, VisionEncoderDecoderModel, AutoModelForCausalLM\n",
    "from PIL import Image\n",
    "import numpy as np\n",
    "import pandas as pd\n",
    "from nltk.translate import bleu_score\n",
    "from nltk.translate.bleu_score import SmoothingFunction\n",
    "import torch\n",
    "\n",
    "yolo_weights_path = \"final_wts.pt\"\n",
    "\n",
    "device = 'cuda' if torch.cuda.is_available() else 'mps' if torch.backends.mps.is_available() else 'cpu'\n",
    "\n",
    "processor = TrOCRProcessor.from_pretrained('microsoft/trocr-large-handwritten')\n",
    "trocr_model = VisionEncoderDecoderModel.from_pretrained('microsoft/trocr-large-handwritten').to(device)\n",
    "trocr_model.config.num_beams = 1\n",
    "\n",
    "yolo_model = YOLO(yolo_weights_path).to('mps')\n",
    "\n",
    "roberta_model = AutoModelForCausalLM.from_pretrained(\"FacebookAI/roberta-large\", is_decoder=True).to(device)\n",
    "\n",
    "print(f'TrOCR and YOLO Models loaded on {device}')"
   ],
   "id": "b9b59ee859304070",
   "outputs": [
    {
     "name": "stderr",
     "output_type": "stream",
     "text": [
      "/Users/amaljoe/Desktop/Workspace/IITB/NLP/OCR_with_LLMs/.venv/lib/python3.9/site-packages/urllib3/__init__.py:35: NotOpenSSLWarning: urllib3 v2 only supports OpenSSL 1.1.1+, currently the 'ssl' module is compiled with 'LibreSSL 2.8.3'. See: https://github.com/urllib3/urllib3/issues/3020\n",
      "  warnings.warn(\n",
      "Config of the encoder: <class 'transformers.models.vit.modeling_vit.ViTModel'> is overwritten by shared encoder config: ViTConfig {\n",
      "  \"attention_probs_dropout_prob\": 0.0,\n",
      "  \"encoder_stride\": 16,\n",
      "  \"hidden_act\": \"gelu\",\n",
      "  \"hidden_dropout_prob\": 0.0,\n",
      "  \"hidden_size\": 1024,\n",
      "  \"image_size\": 384,\n",
      "  \"initializer_range\": 0.02,\n",
      "  \"intermediate_size\": 4096,\n",
      "  \"layer_norm_eps\": 1e-12,\n",
      "  \"model_type\": \"vit\",\n",
      "  \"num_attention_heads\": 16,\n",
      "  \"num_channels\": 3,\n",
      "  \"num_hidden_layers\": 24,\n",
      "  \"patch_size\": 16,\n",
      "  \"qkv_bias\": false,\n",
      "  \"transformers_version\": \"4.46.2\"\n",
      "}\n",
      "\n",
      "Config of the decoder: <class 'transformers.models.trocr.modeling_trocr.TrOCRForCausalLM'> is overwritten by shared decoder config: TrOCRConfig {\n",
      "  \"activation_dropout\": 0.0,\n",
      "  \"activation_function\": \"gelu\",\n",
      "  \"add_cross_attention\": true,\n",
      "  \"attention_dropout\": 0.0,\n",
      "  \"bos_token_id\": 0,\n",
      "  \"classifier_dropout\": 0.0,\n",
      "  \"cross_attention_hidden_size\": 1024,\n",
      "  \"d_model\": 1024,\n",
      "  \"decoder_attention_heads\": 16,\n",
      "  \"decoder_ffn_dim\": 4096,\n",
      "  \"decoder_layerdrop\": 0.0,\n",
      "  \"decoder_layers\": 12,\n",
      "  \"decoder_start_token_id\": 2,\n",
      "  \"dropout\": 0.1,\n",
      "  \"eos_token_id\": 2,\n",
      "  \"init_std\": 0.02,\n",
      "  \"is_decoder\": true,\n",
      "  \"layernorm_embedding\": true,\n",
      "  \"max_position_embeddings\": 512,\n",
      "  \"model_type\": \"trocr\",\n",
      "  \"pad_token_id\": 1,\n",
      "  \"scale_embedding\": false,\n",
      "  \"transformers_version\": \"4.46.2\",\n",
      "  \"use_cache\": false,\n",
      "  \"use_learned_position_embeddings\": true,\n",
      "  \"vocab_size\": 50265\n",
      "}\n",
      "\n",
      "Some weights of VisionEncoderDecoderModel were not initialized from the model checkpoint at microsoft/trocr-large-handwritten and are newly initialized: ['encoder.pooler.dense.bias', 'encoder.pooler.dense.weight']\n",
      "You should probably TRAIN this model on a down-stream task to be able to use it for predictions and inference.\n"
     ]
    },
    {
     "data": {
      "text/plain": [
       "config.json:   0%|          | 0.00/482 [00:00<?, ?B/s]"
      ],
      "application/vnd.jupyter.widget-view+json": {
       "version_major": 2,
       "version_minor": 0,
       "model_id": "b98a5ec0afb240b7a663498a9f7a2813"
      }
     },
     "metadata": {},
     "output_type": "display_data"
    },
    {
     "data": {
      "text/plain": [
       "model.safetensors:   0%|          | 0.00/1.42G [00:00<?, ?B/s]"
      ],
      "application/vnd.jupyter.widget-view+json": {
       "version_major": 2,
       "version_minor": 0,
       "model_id": "3efb7ab1931940fba53483314256b160"
      }
     },
     "metadata": {},
     "output_type": "display_data"
    },
    {
     "name": "stderr",
     "output_type": "stream",
     "text": [
      "Error while downloading from https://cdn-lfs.hf.co/roberta-large/047c85f0b96269cd62e6f732644f067004eebd95af5b5d35965ae2528f13bf38?response-content-disposition=inline%3B+filename*%3DUTF-8%27%27model.safetensors%3B+filename%3D%22model.safetensors%22%3B&Expires=1732869935&Policy=eyJTdGF0ZW1lbnQiOlt7IkNvbmRpdGlvbiI6eyJEYXRlTGVzc1RoYW4iOnsiQVdTOkVwb2NoVGltZSI6MTczMjg2OTkzNX19LCJSZXNvdXJjZSI6Imh0dHBzOi8vY2RuLWxmcy5oZi5jby9yb2JlcnRhLWxhcmdlLzA0N2M4NWYwYjk2MjY5Y2Q2MmU2ZjczMjY0NGYwNjcwMDRlZWJkOTVhZjViNWQzNTk2NWFlMjUyOGYxM2JmMzg%7EcmVzcG9uc2UtY29udGVudC1kaXNwb3NpdGlvbj0qIn1dfQ__&Signature=eTGDgJlSTNNgPDT8qaEH0Wj6ryW65nK6B%7EbX8-c1Sgn2ijOOLiDI1Gs9K5MpRvWXo1MxoR7MiBtiXpF5oyy6ZR7L7XPC%7ENW8OpADU6sPn2axx8J8goT8xxYo7OwCqJME8s6eEsPEfwb857ZKdIZQ3SHvSDxhd06H1zcJFwHai1Ee-C0LgB6MVoo-MCyugZVEdpYtO%7EfOJCprOA0aEuB-XPI-eLK0zTSmd%7E3FXdkfb59c-u26BxKGqbb-Uhx3GqbETPZAUMRFk4FNWK01KUGrOeZeOkeaLIqMFdvESU-FPCqoHgugxO5I7-1mdXHDS3vsOPijooHAZ30FHpGb1mw7qQ__&Key-Pair-Id=K3RPWS32NSSJCE: HTTPSConnectionPool(host='cdn-lfs.hf.co', port=443): Read timed out.\n",
      "Trying to resume download...\n"
     ]
    },
    {
     "data": {
      "text/plain": [
       "model.safetensors:  77%|#######7  | 1.10G/1.42G [00:00<?, ?B/s]"
      ],
      "application/vnd.jupyter.widget-view+json": {
       "version_major": 2,
       "version_minor": 0,
       "model_id": "e0a58c7b1a7a4d2a85a3a1b52ee9cda5"
      }
     },
     "metadata": {},
     "output_type": "display_data"
    },
    {
     "name": "stdout",
     "output_type": "stream",
     "text": [
      "TrOCR and YOLO Models loaded on mps\n"
     ]
    }
   ],
   "execution_count": 1
  },
  {
   "metadata": {
    "ExecuteTime": {
     "end_time": "2024-11-26T08:52:21.533347Z",
     "start_time": "2024-11-26T08:52:14.556830Z"
    }
   },
   "cell_type": "code",
   "source": [
    "CONFIDENCE_THRESHOLD = 0.72\n",
    "BLEU_THRESHOLD = 0.6\n",
    "\n",
    "\n",
    "def inference(image_path, debug=False, return_texts='final'):\n",
    "    def get_cropped_images(image_path):\n",
    "        results = yolo_model(image_path, save=True)\n",
    "        patches = []\n",
    "        ys = []\n",
    "        for box in sorted(results[0].boxes, key=lambda x: x.xywh[0][1]):\n",
    "            image = Image.open(image_path).convert(\"RGB\")\n",
    "            x_center, y_center, w, h  = box.xywh[0].cpu().numpy()\n",
    "            x, y = x_center - w / 2, y_center - h / 2\n",
    "            cropped_image = image.crop((x, y, x + w, y + h))\n",
    "            patches.append(cropped_image)\n",
    "            ys.append(y)\n",
    "        bounding_box_path = results[0].save_dir + results[0].path[results[0].path.rindex('/'):-4] + '.jpg'\n",
    "        return patches, ys, bounding_box_path\n",
    "        \n",
    "    def get_model_output(images):\n",
    "        pixel_values = processor(images=images, return_tensors=\"pt\").pixel_values.to(device)\n",
    "        output = trocr_model.generate(pixel_values, return_dict_in_generate=True, output_scores=True, max_new_tokens=30)\n",
    "        generated_texts = processor.batch_decode(output.sequences, skip_special_tokens=True)\n",
    "        return generated_texts, output.sequences_scores\n",
    "\n",
    "    def post_process_texts(generated_texts):\n",
    "        for i in range(len(generated_texts)):\n",
    "            if len(generated_texts[i]) > 2 and generated_texts[i][:2] == '# ':\n",
    "                generated_texts[i] = generated_texts[i][2:]\n",
    "                \n",
    "            if len(generated_texts[i]) > 2 and generated_texts[i][-2:] == ' #':\n",
    "                generated_texts[i] = generated_texts[i][:-2]\n",
    "        return generated_texts\n",
    "\n",
    "    def get_qualified_texts(generated_texts, scores, y):\n",
    "        qualified_texts = []\n",
    "        for text, score, y_i in zip(generated_texts, scores, y):\n",
    "            if score > CONFIDENCE_THRESHOLD:\n",
    "                qualified_texts.append({\n",
    "                    'text': text,\n",
    "                    'score': score,\n",
    "                    'y': y_i\n",
    "                })\n",
    "        return qualified_texts\n",
    "\n",
    "    def get_adjacent_bleu_scores(qualified_texts):\n",
    "        def get_bleu_score(hypothesis, references):\n",
    "            weights = [0.5, 0.5]\n",
    "            smoothing = SmoothingFunction()\n",
    "            return bleu_score.sentence_bleu(references, hypothesis, weights=weights,\n",
    "                                            smoothing_function=smoothing.method1)\n",
    "\n",
    "        for i in range(len(qualified_texts)):\n",
    "            hyp = qualified_texts[i]['text'].split()\n",
    "            bleu = 0\n",
    "            if i < len(qualified_texts) - 1:\n",
    "                ref = qualified_texts[i + 1]['text'].split()\n",
    "                bleu = get_bleu_score(hyp, [ref])\n",
    "            qualified_texts[i]['bleu'] = bleu\n",
    "        return qualified_texts\n",
    "\n",
    "    def remove_overlapping_texts(qualified_texts):\n",
    "        final_texts = []\n",
    "        new = True\n",
    "        for i in range(len(qualified_texts)):\n",
    "            if new:\n",
    "                final_texts.append(qualified_texts[i])\n",
    "            else:\n",
    "                if final_texts[-1]['score'] < qualified_texts[i]['score']:\n",
    "                    final_texts[-1] = qualified_texts[i]\n",
    "            new = qualified_texts[i]['bleu'] < BLEU_THRESHOLD\n",
    "        return final_texts\n",
    "\n",
    "    cropped_images, y, bounding_box_path = get_cropped_images(image_path)\n",
    "    if debug:\n",
    "        print('Number of cropped images:', len(cropped_images))\n",
    "    generated_texts, scores = get_model_output(cropped_images)\n",
    "    normalised_scores = np.exp(scores.to('cpu').numpy())\n",
    "    if return_texts == 'generated':\n",
    "        return pd.DataFrame({\n",
    "            'text': generated_texts,\n",
    "            'score': normalised_scores,\n",
    "            'y': y\n",
    "        })\n",
    "    generated_texts = post_process_texts(generated_texts)\n",
    "    if return_texts == 'post_processed':\n",
    "        return pd.DataFrame({\n",
    "            'text': generated_texts,\n",
    "            'score': normalised_scores,\n",
    "            'y': y\n",
    "        })\n",
    "    qualified_texts = get_qualified_texts(generated_texts, normalised_scores, y)\n",
    "    if return_texts == 'qualified':\n",
    "        return pd.DataFrame(qualified_texts)\n",
    "    qualified_texts = get_adjacent_bleu_scores(qualified_texts)\n",
    "    if return_texts == 'qualified_with_bleu':\n",
    "        return pd.DataFrame(qualified_texts)\n",
    "    final_texts = remove_overlapping_texts(qualified_texts)\n",
    "    final_texts_df = pd.DataFrame(final_texts, columns=['text', 'score', 'y'])\n",
    "    return final_texts_df, bounding_box_path\n",
    "\n",
    "\n",
    "image_path = \"data/FML_whiteboard2.png\"\n",
    "df, bounding_path = inference(image_path, debug=False, return_texts='final')\n",
    "df"
   ],
   "id": "756864428125bf03",
   "outputs": [
    {
     "name": "stdout",
     "output_type": "stream",
     "text": [
      "\n",
      "image 1/1 /Users/amaljoe/Desktop/Workspace/IITB/NLP/OCR_with_LLMs/data/FML_whiteboard2.png: 384x640 8 handwritten_lines, 371.8ms\n",
      "Speed: 11.1ms preprocess, 371.8ms inference, 1153.5ms postprocess per image at shape (1, 3, 384, 640)\n",
      "Results saved to \u001B[1m/Users/amaljoe/Desktop/Workspace/IITB/NLP/OCR_with_LLMs/runs/detect/predict33\u001B[0m\n"
     ]
    },
    {
     "ename": "AttributeError",
     "evalue": "'GenerateEncoderDecoderOutput' object has no attribute 'sequences_scores'",
     "output_type": "error",
     "traceback": [
      "\u001B[0;31m---------------------------------------------------------------------------\u001B[0m",
      "\u001B[0;31mAttributeError\u001B[0m                            Traceback (most recent call last)",
      "Cell \u001B[0;32mIn[2], line 104\u001B[0m\n\u001B[1;32m    100\u001B[0m     \u001B[38;5;28;01mreturn\u001B[39;00m final_texts_df, bounding_box_path\n\u001B[1;32m    103\u001B[0m image_path \u001B[38;5;241m=\u001B[39m \u001B[38;5;124m\"\u001B[39m\u001B[38;5;124mdata/FML_whiteboard2.png\u001B[39m\u001B[38;5;124m\"\u001B[39m\n\u001B[0;32m--> 104\u001B[0m df, bounding_path \u001B[38;5;241m=\u001B[39m \u001B[43minference\u001B[49m\u001B[43m(\u001B[49m\u001B[43mimage_path\u001B[49m\u001B[43m,\u001B[49m\u001B[43m \u001B[49m\u001B[43mdebug\u001B[49m\u001B[38;5;241;43m=\u001B[39;49m\u001B[38;5;28;43;01mFalse\u001B[39;49;00m\u001B[43m,\u001B[49m\u001B[43m \u001B[49m\u001B[43mreturn_texts\u001B[49m\u001B[38;5;241;43m=\u001B[39;49m\u001B[38;5;124;43m'\u001B[39;49m\u001B[38;5;124;43mfinal\u001B[39;49m\u001B[38;5;124;43m'\u001B[39;49m\u001B[43m)\u001B[49m\n\u001B[1;32m    105\u001B[0m df\n",
      "Cell \u001B[0;32mIn[2], line 77\u001B[0m, in \u001B[0;36minference\u001B[0;34m(image_path, debug, return_texts)\u001B[0m\n\u001B[1;32m     75\u001B[0m \u001B[38;5;28;01mif\u001B[39;00m debug:\n\u001B[1;32m     76\u001B[0m     \u001B[38;5;28mprint\u001B[39m(\u001B[38;5;124m'\u001B[39m\u001B[38;5;124mNumber of cropped images:\u001B[39m\u001B[38;5;124m'\u001B[39m, \u001B[38;5;28mlen\u001B[39m(cropped_images))\n\u001B[0;32m---> 77\u001B[0m generated_texts, scores \u001B[38;5;241m=\u001B[39m \u001B[43mget_model_output\u001B[49m\u001B[43m(\u001B[49m\u001B[43mcropped_images\u001B[49m\u001B[43m)\u001B[49m\n\u001B[1;32m     78\u001B[0m normalised_scores \u001B[38;5;241m=\u001B[39m np\u001B[38;5;241m.\u001B[39mexp(scores\u001B[38;5;241m.\u001B[39mto(\u001B[38;5;124m'\u001B[39m\u001B[38;5;124mcpu\u001B[39m\u001B[38;5;124m'\u001B[39m)\u001B[38;5;241m.\u001B[39mnumpy())\n\u001B[1;32m     79\u001B[0m \u001B[38;5;28;01mif\u001B[39;00m return_texts \u001B[38;5;241m==\u001B[39m \u001B[38;5;124m'\u001B[39m\u001B[38;5;124mgenerated\u001B[39m\u001B[38;5;124m'\u001B[39m:\n",
      "Cell \u001B[0;32mIn[2], line 24\u001B[0m, in \u001B[0;36minference.<locals>.get_model_output\u001B[0;34m(images)\u001B[0m\n\u001B[1;32m     22\u001B[0m output \u001B[38;5;241m=\u001B[39m trocr_model\u001B[38;5;241m.\u001B[39mgenerate(pixel_values, return_dict_in_generate\u001B[38;5;241m=\u001B[39m\u001B[38;5;28;01mTrue\u001B[39;00m, output_scores\u001B[38;5;241m=\u001B[39m\u001B[38;5;28;01mTrue\u001B[39;00m, max_new_tokens\u001B[38;5;241m=\u001B[39m\u001B[38;5;241m30\u001B[39m)\n\u001B[1;32m     23\u001B[0m generated_texts \u001B[38;5;241m=\u001B[39m processor\u001B[38;5;241m.\u001B[39mbatch_decode(output\u001B[38;5;241m.\u001B[39msequences, skip_special_tokens\u001B[38;5;241m=\u001B[39m\u001B[38;5;28;01mTrue\u001B[39;00m)\n\u001B[0;32m---> 24\u001B[0m \u001B[38;5;28;01mreturn\u001B[39;00m generated_texts, \u001B[43moutput\u001B[49m\u001B[38;5;241;43m.\u001B[39;49m\u001B[43msequences_scores\u001B[49m\n",
      "\u001B[0;31mAttributeError\u001B[0m: 'GenerateEncoderDecoderOutput' object has no attribute 'sequences_scores'"
     ]
    }
   ],
   "execution_count": 2
  },
  {
   "metadata": {
    "ExecuteTime": {
     "end_time": "2024-11-26T08:59:19.614689Z",
     "start_time": "2024-11-26T08:59:16.479445Z"
    }
   },
   "cell_type": "code",
   "source": [
    "def get_cropped_images(image_path):\n",
    "    results = yolo_model(image_path, save=True)\n",
    "    patches = []\n",
    "    ys = []\n",
    "    for box in sorted(results[0].boxes, key=lambda x: x.xywh[0][1]):\n",
    "        image = Image.open(image_path).convert(\"RGB\")\n",
    "        x_center, y_center, w, h  = box.xywh[0].cpu().numpy()\n",
    "        x, y = x_center - w / 2, y_center - h / 2\n",
    "        cropped_image = image.crop((x, y, x + w, y + h))\n",
    "        patches.append(cropped_image)\n",
    "        ys.append(y)\n",
    "    bounding_box_path = results[0].save_dir + results[0].path[results[0].path.rindex('/'):-4] + '.jpg'\n",
    "    return patches, ys, bounding_box_path\n",
    "\n",
    "def get_model_output(images):\n",
    "    pixel_values = processor(images=images, return_tensors=\"pt\").pixel_values.to(device)\n",
    "    output = trocr_model.generate(pixel_values, return_dict_in_generate=True, output_logits=True, max_new_tokens=30)\n",
    "    generated_texts = processor.batch_decode(output.sequences, skip_special_tokens=True)\n",
    "    return generated_texts, output.logits\n",
    "\n",
    "\n",
    "image_path = \"data/FML_whiteboard2.png\"\n",
    "cropped_images, y, bounding_box_path = get_cropped_images(image_path)\n",
    "generated_texts, logits = get_model_output(cropped_images)\n",
    "for i in range(len(generated_texts)):\n",
    "    print(generated_texts[i], logits[i].softmax(-1).max(-1).values.mean())"
   ],
   "id": "5d394c6596881fc",
   "outputs": [
    {
     "name": "stdout",
     "output_type": "stream",
     "text": [
      "\n",
      "image 1/1 /Users/amaljoe/Desktop/Workspace/IITB/NLP/OCR_with_LLMs/data/FML_whiteboard2.png: 384x640 8 handwritten_lines, 139.7ms\n",
      "Speed: 6.0ms preprocess, 139.7ms inference, 6.6ms postprocess per image at shape (1, 3, 384, 640)\n",
      "Results saved to \u001B[1m/Users/amaljoe/Desktop/Workspace/IITB/NLP/OCR_with_LLMs/runs/detect/predict33\u001B[0m\n",
      "K-means clustering algorithm tensor(0.8210, device='mps:0')\n",
      "Assume we have K clusters of points ; each point in a cluster . tensor(0.9846, device='mps:0')\n",
      "Assume we have K clusters of points ; each point in a cluster . tensor(0.9086, device='mps:0')\n",
      "is closest to its centroid ( more than any other cluster centroid ) tensor(0.9713, device='mps:0')\n",
      "If cluster assignment is known , it is easy to compute the centriots . tensor(0.8718, device='mps:0')\n",
      "It cluster assignment is known , it is easy to compute the centroids . tensor(0.9372, device='mps:0')\n",
      "If cluster centrids are known , it is easy to do cluster assignment . tensor(0.9796, device='mps:0')\n",
      "How do we solve this chicken-egg problem ? Fix one , optimize the other ! tensor(0.9559, device='mps:0')\n"
     ]
    }
   ],
   "execution_count": 25
  },
  {
   "metadata": {
    "ExecuteTime": {
     "end_time": "2024-11-26T09:14:44.740452Z",
     "start_time": "2024-11-26T09:14:44.656253Z"
    }
   },
   "cell_type": "code",
   "source": [
    "stacked_logits = torch.stack(logits, dim=1)\n",
    "stacked_logits.shape\n",
    "processor.batch_decode(stacked_logits.argmax(-1), skip_special_tokens=True)"
   ],
   "id": "9539651d8f9a9e22",
   "outputs": [
    {
     "data": {
      "text/plain": [
       "['K-means clustering algorithm',\n",
       " 'Assume we have K clusters of points ; each point in a cluster .',\n",
       " 'Assume we have K clusters of points ; each point in a cluster .',\n",
       " 'is closest to its centroid ( more than any other cluster centroid )',\n",
       " 'If cluster assignment is known , it is easy to compute the centriots .',\n",
       " 'It cluster assignment is known , it is easy to compute the centroids .',\n",
       " 'If cluster centrids are known , it is easy to do cluster assignment .',\n",
       " 'How do we solve this chicken-egg problem ? Fix one , optimize the other !']"
      ]
     },
     "execution_count": 63,
     "metadata": {},
     "output_type": "execute_result"
    }
   ],
   "execution_count": 63
  },
  {
   "metadata": {
    "ExecuteTime": {
     "end_time": "2024-11-26T09:10:43.515578Z",
     "start_time": "2024-11-26T09:10:43.464354Z"
    }
   },
   "cell_type": "code",
   "source": "processor.batch_decode(logits[0][:].argmax(-1), skip_special_tokens=True)",
   "id": "a333a75aefbe33cb",
   "outputs": [
    {
     "data": {
      "text/plain": [
       "['K', 'Ass', 'Ass', 'is', 'If', 'It', 'If', 'How']"
      ]
     },
     "execution_count": 58,
     "metadata": {},
     "output_type": "execute_result"
    }
   ],
   "execution_count": 58
  },
  {
   "metadata": {},
   "cell_type": "code",
   "outputs": [],
   "execution_count": null,
   "source": "",
   "id": "28268b1f1fd3e539"
  },
  {
   "metadata": {
    "ExecuteTime": {
     "end_time": "2024-11-26T09:07:37.528909Z",
     "start_time": "2024-11-26T09:07:37.464978Z"
    }
   },
   "cell_type": "code",
   "source": "logits[-6].softmax(-1).argmax(-1)",
   "id": "4bab4daee1ab1cba",
   "outputs": [
    {
     "data": {
      "text/plain": [
       "tensor([    2, 18016, 18016, 36866, 29267,  1001, 18016,  2156], device='mps:0')"
      ]
     },
     "execution_count": 44,
     "metadata": {},
     "output_type": "execute_result"
    }
   ],
   "execution_count": 44
  }
 ],
 "metadata": {
  "kernelspec": {
   "display_name": "Python 3",
   "language": "python",
   "name": "python3"
  },
  "language_info": {
   "codemirror_mode": {
    "name": "ipython",
    "version": 2
   },
   "file_extension": ".py",
   "mimetype": "text/x-python",
   "name": "python",
   "nbconvert_exporter": "python",
   "pygments_lexer": "ipython2",
   "version": "2.7.6"
  }
 },
 "nbformat": 4,
 "nbformat_minor": 5
}
