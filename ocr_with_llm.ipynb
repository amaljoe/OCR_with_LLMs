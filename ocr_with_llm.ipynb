{
 "cells": [
  {
   "metadata": {},
   "cell_type": "code",
   "outputs": [],
   "execution_count": null,
   "source": [
    "from transformers import AutoModelForCausalLM, AutoTokenizer, QuantoConfig, TrOCRProcessor, VisionEncoderDecoderModel\n",
    "from transformers import pipeline\n",
    "\n",
    "# ocr\n",
    "pipe = pipeline(\"image-to-text\", model=\"microsoft/trocr-large-handwritten\")\n",
    "processor = TrOCRProcessor.from_pretrained('microsoft/trocr-large-handwritten')\n",
    "model = VisionEncoderDecoderModel.from_pretrained('microsoft/trocr-large-handwritten')\n",
    "\n",
    "# llm\n",
    "model_id = \"meta-llama/Llama-3.1-8B-Instruct\"\n",
    "tokenizer = AutoTokenizer.from_pretrained(model_id)\n",
    "quantization_config = QuantoConfig(weights=\"int8\")\n",
    "quantized_model = AutoModelForCausalLM.from_pretrained(model_id, device_map=\"mps:0\", quantization_config=quantization_config)"
   ],
   "id": "828c32d4864f86cc"
  },
  {
   "metadata": {
    "ExecuteTime": {
     "end_time": "2024-11-18T16:14:34.352791Z",
     "start_time": "2024-11-18T16:14:33.109808Z"
    }
   },
   "cell_type": "code",
   "source": [
    "from PIL import Image\n",
    "\n",
    "\n",
    "def infer_text(image_path):\n",
    "    image = Image.open(image_path).convert(\"RGB\")\n",
    "    pixel_values = processor(images=image, return_tensors=\"pt\").pixel_values\n",
    "    logits = model.generate(pixel_values, return_dict_in_generate=True, output_scores=True)\n",
    "    return logits[\"scores\"]\n",
    "    # generated_text = processor.batch_decode(generated_ids, skip_special_tokens=True)[0]\n",
    "    # return generated_text\n",
    "\n",
    "\n",
    "infer_text('data/ss2.png')[0].shape"
   ],
   "id": "3191380a80caea91",
   "outputs": [
    {
     "name": "stderr",
     "output_type": "stream",
     "text": [
      "/Users/amaljoe/Desktop/Workspace/IITB/NLP/OCR_with_LLMs/.venv/lib/python3.9/site-packages/transformers/generation/utils.py:1375: UserWarning: Using the model-agnostic default `max_length` (=20) to control the generation length. We recommend setting `max_new_tokens` to control the maximum length of the generation.\n",
      "  warnings.warn(\n"
     ]
    },
    {
     "data": {
      "text/plain": [
       "torch.Size([1, 50265])"
      ]
     },
     "execution_count": 9,
     "metadata": {},
     "output_type": "execute_result"
    }
   ],
   "execution_count": 9
  },
  {
   "metadata": {
    "ExecuteTime": {
     "end_time": "2024-11-18T16:15:52.302383Z",
     "start_time": "2024-11-18T16:15:52.299588Z"
    }
   },
   "cell_type": "code",
   "source": [
    "llm_input = \"The quick brown fox jumps over the lazy dog\"\n",
    "llm_input_ids = tokenizer(llm_input, return_tensors=\"pt\").input_ids\n",
    "tokenizer.vocab_size"
   ],
   "id": "a369f74da6bd7026",
   "outputs": [
    {
     "data": {
      "text/plain": [
       "128000"
      ]
     },
     "execution_count": 12,
     "metadata": {},
     "output_type": "execute_result"
    }
   ],
   "execution_count": 12
  }
 ],
 "metadata": {
  "kernelspec": {
   "display_name": "Python 3",
   "language": "python",
   "name": "python3"
  },
  "language_info": {
   "codemirror_mode": {
    "name": "ipython",
    "version": 2
   },
   "file_extension": ".py",
   "mimetype": "text/x-python",
   "name": "python",
   "nbconvert_exporter": "python",
   "pygments_lexer": "ipython2",
   "version": "2.7.6"
  }
 },
 "nbformat": 4,
 "nbformat_minor": 5
}
