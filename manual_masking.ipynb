{
 "cells": [
  {
   "cell_type": "code",
   "id": "initial_id",
   "metadata": {
    "collapsed": true,
    "ExecuteTime": {
     "end_time": "2024-11-26T09:57:14.859226Z",
     "start_time": "2024-11-26T09:57:13.830199Z"
    }
   },
   "source": [
    "# Load model directly\n",
    "from transformers import AutoTokenizer, AutoModelForMaskedLM, AutoModelForCausalLM\n",
    "import torch\n",
    "\n",
    "tokenizer = AutoTokenizer.from_pretrained(\"FacebookAI/roberta-large\")\n",
    "model = AutoModelForMaskedLM.from_pretrained(\"FacebookAI/roberta-large\")"
   ],
   "outputs": [],
   "execution_count": 30
  },
  {
   "metadata": {
    "ExecuteTime": {
     "end_time": "2024-11-26T10:01:02.811210Z",
     "start_time": "2024-11-26T10:01:02.808215Z"
    }
   },
   "cell_type": "code",
   "source": [
    "input = \"The capital of France is <mask>.\"\n",
    "\n",
    "input_ids = tokenizer(input, return_tensors=\"pt\").input_ids\n",
    "mask_token_index = torch.where(input_ids == tokenizer.mask_token_id)\n",
    "input_ids"
   ],
   "id": "49fded86b874c221",
   "outputs": [
    {
     "data": {
      "text/plain": [
       "tensor([[    0,   133,   812,     9,  1470,    16, 50264,     4,     2]])"
      ]
     },
     "execution_count": 49,
     "metadata": {},
     "output_type": "execute_result"
    }
   ],
   "execution_count": 49
  },
  {
   "metadata": {
    "ExecuteTime": {
     "end_time": "2024-11-26T10:01:40.550502Z",
     "start_time": "2024-11-26T10:01:40.423518Z"
    }
   },
   "cell_type": "code",
   "source": [
    "output = model(input_ids)\n",
    "logits = output.logits\n",
    "tokenizer.decode([logits[0][-3].argmax(-1)], skip_special_tokens=True)"
   ],
   "id": "dc7085c35ad20a89",
   "outputs": [
    {
     "data": {
      "text/plain": [
       "' Paris'"
      ]
     },
     "execution_count": 52,
     "metadata": {},
     "output_type": "execute_result"
    }
   ],
   "execution_count": 52
  }
 ],
 "metadata": {
  "kernelspec": {
   "display_name": "Python 3",
   "language": "python",
   "name": "python3"
  },
  "language_info": {
   "codemirror_mode": {
    "name": "ipython",
    "version": 2
   },
   "file_extension": ".py",
   "mimetype": "text/x-python",
   "name": "python",
   "nbconvert_exporter": "python",
   "pygments_lexer": "ipython2",
   "version": "2.7.6"
  }
 },
 "nbformat": 4,
 "nbformat_minor": 5
}
