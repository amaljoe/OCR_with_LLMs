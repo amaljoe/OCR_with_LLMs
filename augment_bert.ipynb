{
 "cells": [
  {
   "metadata": {},
   "cell_type": "raw",
   "source": "",
   "id": "ff98001685f5a6ed"
  },
  {
   "metadata": {
    "ExecuteTime": {
     "end_time": "2024-11-25T10:27:08.157211Z",
     "start_time": "2024-11-25T10:27:08.152601Z"
    }
   },
   "cell_type": "code",
   "source": "import random",
   "id": "45e421cd46de455",
   "outputs": [],
   "execution_count": 1
  },
  {
   "cell_type": "code",
   "id": "initial_id",
   "metadata": {
    "collapsed": true,
    "ExecuteTime": {
     "end_time": "2024-11-25T11:13:45.666083Z",
     "start_time": "2024-11-25T11:13:13.685888Z"
    }
   },
   "source": [
    "from ultralytics import YOLO\n",
    "from transformers import TrOCRProcessor, VisionEncoderDecoderModel, AutoModelForCausalLM\n",
    "from PIL import Image\n",
    "import numpy as np\n",
    "import pandas as pd\n",
    "from nltk.translate import bleu_score\n",
    "from nltk.translate.bleu_score import SmoothingFunction\n",
    "import torch\n",
    "\n",
    "yolo_weights_path = \"final_wts.pt\"\n",
    "\n",
    "device = 'cuda' if torch.cuda.is_available() else 'mps' if torch.backends.mps.is_available() else 'cpu'\n",
    "\n",
    "processor = TrOCRProcessor.from_pretrained('microsoft/trocr-large-handwritten')\n",
    "trocr_model = VisionEncoderDecoderModel.from_pretrained('microsoft/trocr-large-handwritten').to(device)\n",
    "trocr_model.config.num_beams = 2\n",
    "\n",
    "yolo_model = YOLO(yolo_weights_path).to('mps')\n",
    "\n",
    "print(f'TrOCR and YOLO Models loaded on {device}')"
   ],
   "outputs": [
    {
     "name": "stderr",
     "output_type": "stream",
     "text": [
      "/Users/amaljoe/Desktop/Workspace/IITB/NLP/OCR_with_LLMs/.venv/lib/python3.9/site-packages/urllib3/__init__.py:35: NotOpenSSLWarning: urllib3 v2 only supports OpenSSL 1.1.1+, currently the 'ssl' module is compiled with 'LibreSSL 2.8.3'. See: https://github.com/urllib3/urllib3/issues/3020\n",
      "  warnings.warn(\n",
      "Config of the encoder: <class 'transformers.models.vit.modeling_vit.ViTModel'> is overwritten by shared encoder config: ViTConfig {\n",
      "  \"attention_probs_dropout_prob\": 0.0,\n",
      "  \"encoder_stride\": 16,\n",
      "  \"hidden_act\": \"gelu\",\n",
      "  \"hidden_dropout_prob\": 0.0,\n",
      "  \"hidden_size\": 1024,\n",
      "  \"image_size\": 384,\n",
      "  \"initializer_range\": 0.02,\n",
      "  \"intermediate_size\": 4096,\n",
      "  \"layer_norm_eps\": 1e-12,\n",
      "  \"model_type\": \"vit\",\n",
      "  \"num_attention_heads\": 16,\n",
      "  \"num_channels\": 3,\n",
      "  \"num_hidden_layers\": 24,\n",
      "  \"patch_size\": 16,\n",
      "  \"qkv_bias\": false,\n",
      "  \"transformers_version\": \"4.46.2\"\n",
      "}\n",
      "\n",
      "Config of the decoder: <class 'transformers.models.trocr.modeling_trocr.TrOCRForCausalLM'> is overwritten by shared decoder config: TrOCRConfig {\n",
      "  \"activation_dropout\": 0.0,\n",
      "  \"activation_function\": \"gelu\",\n",
      "  \"add_cross_attention\": true,\n",
      "  \"attention_dropout\": 0.0,\n",
      "  \"bos_token_id\": 0,\n",
      "  \"classifier_dropout\": 0.0,\n",
      "  \"cross_attention_hidden_size\": 1024,\n",
      "  \"d_model\": 1024,\n",
      "  \"decoder_attention_heads\": 16,\n",
      "  \"decoder_ffn_dim\": 4096,\n",
      "  \"decoder_layerdrop\": 0.0,\n",
      "  \"decoder_layers\": 12,\n",
      "  \"decoder_start_token_id\": 2,\n",
      "  \"dropout\": 0.1,\n",
      "  \"eos_token_id\": 2,\n",
      "  \"init_std\": 0.02,\n",
      "  \"is_decoder\": true,\n",
      "  \"layernorm_embedding\": true,\n",
      "  \"max_position_embeddings\": 512,\n",
      "  \"model_type\": \"trocr\",\n",
      "  \"pad_token_id\": 1,\n",
      "  \"scale_embedding\": false,\n",
      "  \"transformers_version\": \"4.46.2\",\n",
      "  \"use_cache\": false,\n",
      "  \"use_learned_position_embeddings\": true,\n",
      "  \"vocab_size\": 50265\n",
      "}\n",
      "\n",
      "Some weights of VisionEncoderDecoderModel were not initialized from the model checkpoint at microsoft/trocr-large-handwritten and are newly initialized: ['encoder.pooler.dense.bias', 'encoder.pooler.dense.weight']\n",
      "You should probably TRAIN this model on a down-stream task to be able to use it for predictions and inference.\n"
     ]
    },
    {
     "name": "stdout",
     "output_type": "stream",
     "text": [
      "TrOCR and YOLO Models loaded on mps\n"
     ]
    }
   ],
   "execution_count": 1
  },
  {
   "metadata": {
    "ExecuteTime": {
     "end_time": "2024-11-25T11:22:37.656064Z",
     "start_time": "2024-11-25T11:22:32.217331Z"
    }
   },
   "cell_type": "code",
   "source": [
    "CONFIDENCE_THRESHOLD = 0.72\n",
    "BLEU_THRESHOLD = 0.6\n",
    "\n",
    "\n",
    "def inference(image_path, debug=False, return_texts='final'):\n",
    "    def get_cropped_images(image_path):\n",
    "        results = yolo_model(image_path, save=True)\n",
    "        patches = []\n",
    "        ys = []\n",
    "        for box in sorted(results[0].boxes, key=lambda x: x.xywh[0][1]):\n",
    "            image = Image.open(image_path).convert(\"RGB\")\n",
    "            x_center, y_center, w, h  = box.xywh[0].cpu().numpy()\n",
    "            x, y = x_center - w / 2, y_center - h / 2\n",
    "            cropped_image = image.crop((x, y, x + w, y + h))\n",
    "            patches.append(cropped_image)\n",
    "            ys.append(y)\n",
    "        bounding_box_path = results[0].save_dir + results[0].path[results[0].path.rindex('/'):-4] + '.jpg'\n",
    "        return patches, ys, bounding_box_path\n",
    "\n",
    "    def get_model_output(images):\n",
    "        pixel_values = processor(images=images, return_tensors=\"pt\").pixel_values.to(device)\n",
    "        output = trocr_model.generate(pixel_values, return_dict_in_generate=True, output_scores=True, max_new_tokens=30, output_logits=True)\n",
    "        generated_texts = processor.batch_decode(output.sequences, skip_special_tokens=True)\n",
    "        return generated_texts, output.sequences_scores, output.logits\n",
    "\n",
    "    def post_process_texts(generated_texts):\n",
    "        for i in range(len(generated_texts)):\n",
    "            if len(generated_texts[i]) > 2 and generated_texts[i][:2] == '# ':\n",
    "                generated_texts[i] = generated_texts[i][2:]\n",
    "\n",
    "            if len(generated_texts[i]) > 2 and generated_texts[i][-2:] == ' #':\n",
    "                generated_texts[i] = generated_texts[i][:-2]\n",
    "        return generated_texts\n",
    "\n",
    "    def get_qualified_texts(generated_texts, scores, y, logits):\n",
    "        qualified_texts = []\n",
    "        for text, score, y_i,  logits_i in zip(generated_texts, scores, y, logits):\n",
    "            if score > CONFIDENCE_THRESHOLD:\n",
    "                qualified_texts.append({\n",
    "                    'text': text,\n",
    "                    'score': score,\n",
    "                    'y': y_i,\n",
    "                    'logits': logits_i\n",
    "                })\n",
    "        return qualified_texts\n",
    "\n",
    "    def get_adjacent_bleu_scores(qualified_texts):\n",
    "        def get_bleu_score(hypothesis, references):\n",
    "            weights = [0.5, 0.5]\n",
    "            smoothing = SmoothingFunction()\n",
    "            return bleu_score.sentence_bleu(references, hypothesis, weights=weights,\n",
    "                                            smoothing_function=smoothing.method1)\n",
    "\n",
    "        for i in range(len(qualified_texts)):\n",
    "            hyp = qualified_texts[i]['text'].split()\n",
    "            bleu = 0\n",
    "            if i < len(qualified_texts) - 1:\n",
    "                ref = qualified_texts[i + 1]['text'].split()\n",
    "                bleu = get_bleu_score(hyp, [ref])\n",
    "            qualified_texts[i]['bleu'] = bleu\n",
    "        return qualified_texts\n",
    "\n",
    "    def remove_overlapping_texts(qualified_texts):\n",
    "        final_texts = []\n",
    "        new = True\n",
    "        for i in range(len(qualified_texts)):\n",
    "            if new:\n",
    "                final_texts.append(qualified_texts[i])\n",
    "            else:\n",
    "                if final_texts[-1]['score'] < qualified_texts[i]['score']:\n",
    "                    final_texts[-1] = qualified_texts[i]\n",
    "            new = qualified_texts[i]['bleu'] < BLEU_THRESHOLD\n",
    "        return final_texts\n",
    "\n",
    "    cropped_images, y, bounding_box_path = get_cropped_images(image_path)\n",
    "    if debug:\n",
    "        print('Number of cropped images:', len(cropped_images))\n",
    "    generated_texts, scores, logits = get_model_output(cropped_images[:10])\n",
    "    normalised_scores = np.exp(scores.to('cpu').numpy())\n",
    "    index = list(range(len(cropped_images)))\n",
    "    print('Number of generated texts:', len(generated_texts))\n",
    "    return \",\", \"\", logits\n",
    "    if return_texts == 'generated':\n",
    "        return pd.DataFrame({\n",
    "            'text': generated_texts,\n",
    "            'score': normalised_scores,\n",
    "            'y': y,\n",
    "            'logits': logits,\n",
    "        })\n",
    "    generated_texts = post_process_texts(generated_texts)\n",
    "    if return_texts == 'post_processed':\n",
    "        return pd.DataFrame({\n",
    "            'text': generated_texts,\n",
    "            'score': normalised_scores,\n",
    "            'y': y,\n",
    "            'logits': logits,\n",
    "        })\n",
    "    qualified_texts = get_qualified_texts(generated_texts, normalised_scores, y, logits)\n",
    "    if return_texts == 'qualified':\n",
    "        return pd.DataFrame(qualified_texts)\n",
    "    qualified_texts = get_adjacent_bleu_scores(qualified_texts)\n",
    "    if return_texts == 'qualified_with_bleu':\n",
    "        return pd.DataFrame(qualified_texts)\n",
    "    final_texts = remove_overlapping_texts(qualified_texts)\n",
    "    final_texts_df = pd.DataFrame(final_texts, columns=['text', 'score', 'y', 'logits'])\n",
    "    return final_texts_df, bounding_box_path, logits\n",
    "\n",
    "\n",
    "image_path = \"raw_dataset/p03-112.png\"\n",
    "df, bounding_path, ocr_logits = inference(image_path, debug=False, return_texts='generated')\n",
    "df"
   ],
   "id": "4f1d89bbf24c915e",
   "outputs": [
    {
     "name": "stdout",
     "output_type": "stream",
     "text": [
      "\n",
      "image 1/1 /Users/amaljoe/Desktop/Workspace/IITB/NLP/OCR_with_LLMs/raw_dataset/p03-112.png: 576x640 14 handwritten_lines, 56.0ms\n",
      "Speed: 26.6ms preprocess, 56.0ms inference, 8.8ms postprocess per image at shape (1, 3, 576, 640)\n",
      "Results saved to \u001B[1m/Users/amaljoe/Desktop/Workspace/IITB/NLP/OCR_with_LLMs/runs/detect/predict31\u001B[0m\n",
      "Number of generated texts: 10\n"
     ]
    },
    {
     "data": {
      "text/plain": [
       "','"
      ]
     },
     "execution_count": 15,
     "metadata": {},
     "output_type": "execute_result"
    }
   ],
   "execution_count": 15
  },
  {
   "metadata": {
    "ExecuteTime": {
     "end_time": "2024-11-25T11:24:08.038510Z",
     "start_time": "2024-11-25T11:24:07.873977Z"
    }
   },
   "cell_type": "code",
   "source": "",
   "id": "b7073751544a0588",
   "outputs": [
    {
     "name": "stdout",
     "output_type": "stream",
     "text": [
      "tensor([  113,   113, 12557, 12557,  9773,  9773, 13639, 13639, 13639, 13639,   113,   113, 23033, 23033,  1610,  1610,  7325,  7325,  1646,  1646], device='mps:0')\n",
      "tensor([  440,   440, 21434,   710,  1493,  1493,  4399,    47,  4399,    47, 16734,   113,   101, 11990, 11990,   101,   129,    21,  5606, 20161], device='mps:0')\n",
      "tensor([ 2156,  2156,    69, 21434,    13,    13,    47,     7,    47,     7,   111, 16734,   932,   101,   101,   932, 22024,   129,   615,   475], device='mps:0')\n",
      "tensor([   24,    24,   479,    69,    10,    10,     7, 18871,     7, 18871, 27785,    22,     9,   932,   932,     9,   479, 22024,   127,  5999], device='mps:0')\n",
      "tensor([ 1979,  1979,    22,   479,  1151,  1151, 18871,   101, 18871,   101,    22,    79,     5,     9,     9,     5,    22,   479,   519,   868], device='mps:0')\n",
      "tensor([   75,    75,   370,    22,    89,    89,   101,    10,   101,    10,    79, 44918,   761,     5,     5,   761,    22,    22,     7,   615], device='mps:0')\n",
      "tensor([27785, 27785, 12020,   370,   479,   479,    10,   111,    10,   111, 44918,   479,   479,   761,   761,   479,  2647,  2156,   185,   127], device='mps:0')\n",
      "tensor([   22,    22,   101, 12020,    85,    85,   111,    10,   111,    10,   479,    22,    38,   479,   479,    38,  2156,   218,   127,   519], device='mps:0')\n",
      "tensor([   37,    37,   103,   101,   630,   630,    10, 27468,    10,    10,    22,    38,     2,    38,    38,     2,   218,    75,     2,     7], device='mps:0')\n",
      "tensor([  818,   818,    12,   103,    75,    75, 27468,  2968, 27468, 27468,    38,   399,     2,     2,     2,     2,    75,   479,   185,     2], device='mps:0')\n",
      "tensor([10098, 10098,     2,     2,     2,     2,  2968,   479,  3643,  3643,   399,    75,     2,     2,     2,     2,   479,    85,   127,   127], device='mps:0')\n",
      "tensor([2156, 2156,    2,    2,    2,    2,  479, 4715,  479,  479,   75, 1266,  479,  479,    2,    2,   85,   18,    2,    2], device='mps:0')\n",
      "tensor([   2,    2,    2,    2,    2,    2,   22,   22,   22,   22, 1266,    7,  479,  479,  479,  479,   18,    2,    2,    2], device='mps:0')\n",
      "tensor([  2,   2,   2,   2,   2,   2,   2,   2,   2,   2,   7,   2,   2,   2,   2,   2,   2,   2, 127, 127], device='mps:0')\n",
      "tensor([2, 2, 2, 2, 2, 2, 2, 2, 2, 2, 2, 2, 2, 2, 2, 2, 2, 2, 2, 2], device='mps:0')\n",
      "tensor([2, 2, 2, 2, 2, 2, 2, 2, 2, 2, 2, 2, 2, 2, 2, 2, 2, 2, 2, 2], device='mps:0')\n"
     ]
    }
   ],
   "execution_count": 23
  },
  {
   "metadata": {
    "ExecuteTime": {
     "end_time": "2024-11-25T11:24:27.116566Z",
     "start_time": "2024-11-25T11:24:25.715650Z"
    }
   },
   "cell_type": "code",
   "source": [
    "# Load model directly\n",
    "from transformers import AutoTokenizer, AutoModelForMaskedLM, AutoModelForCausalLM\n",
    "import torch\n",
    "\n",
    "tokenizer = AutoTokenizer.from_pretrained(\"FacebookAI/roberta-base\")\n",
    "model = AutoModelForCausalLM.from_pretrained(\"FacebookAI/roberta-base\")"
   ],
   "id": "587c18c61689e1e1",
   "outputs": [
    {
     "name": "stderr",
     "output_type": "stream",
     "text": [
      "If you want to use `RobertaLMHeadModel` as a standalone, add `is_decoder=True.`\n"
     ]
    }
   ],
   "execution_count": 24
  },
  {
   "metadata": {},
   "cell_type": "code",
   "outputs": [],
   "execution_count": null,
   "source": "",
   "id": "827b84cf30296319"
  },
  {
   "metadata": {
    "ExecuteTime": {
     "end_time": "2024-11-25T14:05:44.605142Z",
     "start_time": "2024-11-25T14:05:44.554645Z"
    }
   },
   "cell_type": "code",
   "source": [
    "ocr_logits2 = model(input_ids=tokenizer([\"hello\", \"there you are\"], return_tensors=\"pt\", padding=True, truncation=True).input_ids).logits\n",
    "\n",
    "logits2 = torch.vstack([logit for logit in ocr_logits])\n",
    "\n",
    "ids = logits2.argmax(axis=-1)\n",
    "logits2.shape"
   ],
   "id": "70568a542f090779",
   "outputs": [
    {
     "data": {
      "text/plain": [
       "torch.Size([320, 50265])"
      ]
     },
     "execution_count": 98,
     "metadata": {},
     "output_type": "execute_result"
    }
   ],
   "execution_count": 98
  },
  {
   "metadata": {
    "ExecuteTime": {
     "end_time": "2024-11-25T14:05:45.923679Z",
     "start_time": "2024-11-25T14:05:45.914179Z"
    }
   },
   "cell_type": "code",
   "source": [
    "dec = tokenizer.decode(ids, skip_special_tokens=True)\n",
    "print(f'{dec}\\n\\n')"
   ],
   "id": "3ecbf233d33f0f1d",
   "outputs": [
    {
     "name": "stdout",
     "output_type": "stream",
     "text": [
      "\"\"sursurbodybodybecbecbecbec\"\"beforebeforebebewaswas1919 No Noprisingur else elseome youome you Nigel\" likehavehave like only was61 miserable , , herprising for for you to you to - Nigel anything like like anything joking only enough m it it . her a a to behave to behave ! \" of anything anything of . joking myiser wouldn wouldn \" . moment moment behave like behave like \" she the of of the \" . havingable't't You \" there there like a like a she gasped kind the the kind \" \" to enough ! ! sounded You . . a - a - gasped . . kind kind . Well , take my \" \" like sounded It It - a - a . \" I . . I , don my having he he some like doesn doesn a tart a a \" I I I don't to almost almost- some't't tart pl tart tart I didn't . take snapped snapped pl . Di Di didn't . It my my , , .ili . .'t mean . . It's \" \" \" \" mean to . . . .'s to my my\n",
      "\n",
      "\n"
     ]
    }
   ],
   "execution_count": 99
  },
  {
   "metadata": {
    "ExecuteTime": {
     "end_time": "2024-11-25T10:59:49.376573Z",
     "start_time": "2024-11-25T10:59:49.357937Z"
    }
   },
   "cell_type": "code",
   "source": [
    "ocr_ids = ocr_logits.argmax(axis=-1)\n",
    "output = tokenizer.batch_decode(ocr_ids, skip_special_tokens=True)"
   ],
   "id": "871b0885646b1543",
   "outputs": [
    {
     "ename": "AttributeError",
     "evalue": "'tuple' object has no attribute 'argmax'",
     "output_type": "error",
     "traceback": [
      "\u001B[0;31m---------------------------------------------------------------------------\u001B[0m",
      "\u001B[0;31mAttributeError\u001B[0m                            Traceback (most recent call last)",
      "Cell \u001B[0;32mIn[44], line 1\u001B[0m\n\u001B[0;32m----> 1\u001B[0m ocr_ids \u001B[38;5;241m=\u001B[39m \u001B[43mocr_logits\u001B[49m\u001B[38;5;241;43m.\u001B[39;49m\u001B[43margmax\u001B[49m(axis\u001B[38;5;241m=\u001B[39m\u001B[38;5;241m-\u001B[39m\u001B[38;5;241m1\u001B[39m)\n\u001B[1;32m      2\u001B[0m output \u001B[38;5;241m=\u001B[39m tokenizer\u001B[38;5;241m.\u001B[39mbatch_decode(ocr_ids, skip_special_tokens\u001B[38;5;241m=\u001B[39m\u001B[38;5;28;01mTrue\u001B[39;00m)\n",
      "\u001B[0;31mAttributeError\u001B[0m: 'tuple' object has no attribute 'argmax'"
     ]
    }
   ],
   "execution_count": 44
  },
  {
   "metadata": {
    "ExecuteTime": {
     "end_time": "2024-11-26T07:26:16.672772Z",
     "start_time": "2024-11-26T07:26:16.510993Z"
    }
   },
   "cell_type": "code",
   "source": [
    "inputs = tokenizer(\"The capital of France is <mask>.\", return_tensors=\"pt\")\n",
    "\n",
    "with torch.no_grad():\n",
    "    logits = model(input_ids=inputs.input_ids).logits\n",
    "\n",
    "# retrieve index of [MASK]\n",
    "mask_token_index = (inputs.input_ids == tokenizer.mask_token_id)[0].nonzero(as_tuple=True)[0]\n",
    "bert_logits = logits[0, mask_token_index]\n",
    "print(logits[0][-1].shape)"
   ],
   "id": "81fbcc6e1a333b17",
   "outputs": [
    {
     "ename": "NameError",
     "evalue": "name 'tokenizer' is not defined",
     "output_type": "error",
     "traceback": [
      "\u001B[0;31m---------------------------------------------------------------------------\u001B[0m",
      "\u001B[0;31mNameError\u001B[0m                                 Traceback (most recent call last)",
      "Cell \u001B[0;32mIn[1], line 1\u001B[0m\n\u001B[0;32m----> 1\u001B[0m inputs \u001B[38;5;241m=\u001B[39m \u001B[43mtokenizer\u001B[49m(\u001B[38;5;124m\"\u001B[39m\u001B[38;5;124mThe capital of France is <mask>.\u001B[39m\u001B[38;5;124m\"\u001B[39m, return_tensors\u001B[38;5;241m=\u001B[39m\u001B[38;5;124m\"\u001B[39m\u001B[38;5;124mpt\u001B[39m\u001B[38;5;124m\"\u001B[39m)\n\u001B[1;32m      3\u001B[0m \u001B[38;5;28;01mwith\u001B[39;00m torch\u001B[38;5;241m.\u001B[39mno_grad():\n\u001B[1;32m      4\u001B[0m     logits \u001B[38;5;241m=\u001B[39m model(input_ids\u001B[38;5;241m=\u001B[39minputs\u001B[38;5;241m.\u001B[39minput_ids)\u001B[38;5;241m.\u001B[39mlogits\n",
      "\u001B[0;31mNameError\u001B[0m: name 'tokenizer' is not defined"
     ]
    }
   ],
   "execution_count": 1
  },
  {
   "metadata": {
    "ExecuteTime": {
     "end_time": "2024-11-25T10:53:15.595433Z",
     "start_time": "2024-11-25T10:53:15.589757Z"
    }
   },
   "cell_type": "code",
   "source": [
    "predicted_token_id = logits[0, :].argmax(axis=-1)\n",
    "tokenizer.decode(predicted_token_id)"
   ],
   "id": "3569490d781a69b8",
   "outputs": [
    {
     "data": {
      "text/plain": [
       "'<s>The capital of France is Paris.</s>'"
      ]
     },
     "execution_count": 38,
     "metadata": {},
     "output_type": "execute_result"
    }
   ],
   "execution_count": 38
  },
  {
   "metadata": {},
   "cell_type": "code",
   "outputs": [],
   "execution_count": null,
   "source": [
    "labels = tokenizer(\"The capital of France is Paris.\", return_tensors=\"pt\")[\"input_ids\"]\n",
    "# mask labels of non-[MASK] tokens\n",
    "labels = torch.where(inputs.input_ids == tokenizer.mask_token_id, labels, -100)\n",
    "\n",
    "outputs = model(**inputs, labels=labels)\n",
    "round(outputs.loss.item(), 2)"
   ],
   "id": "93b6a5d6889b5b8b"
  }
 ],
 "metadata": {
  "kernelspec": {
   "display_name": "Python 3",
   "language": "python",
   "name": "python3"
  },
  "language_info": {
   "codemirror_mode": {
    "name": "ipython",
    "version": 2
   },
   "file_extension": ".py",
   "mimetype": "text/x-python",
   "name": "python",
   "nbconvert_exporter": "python",
   "pygments_lexer": "ipython2",
   "version": "2.7.6"
  }
 },
 "nbformat": 4,
 "nbformat_minor": 5
}
