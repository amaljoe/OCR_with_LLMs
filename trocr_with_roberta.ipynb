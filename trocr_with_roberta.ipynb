{
 "cells": [
  {
   "cell_type": "code",
   "id": "initial_id",
   "metadata": {
    "collapsed": true,
    "ExecuteTime": {
     "end_time": "2024-11-26T06:43:45.529135Z",
     "start_time": "2024-11-26T06:43:27.717385Z"
    }
   },
   "source": [
    "from transformers import MarianMTModel, MarianTokenizer, VisionEncoderDecoderModel, TrOCRProcessor, AutoTokenizer, \\\n",
    "    AutoModelForCausalLM\n",
    "import torch\n",
    "from transformers import AutoTokenizer\n",
    "\n",
    "\n",
    "device = \"cuda\" if torch.cuda.is_available() else \"mps\" if torch.backends.mps.is_available() else \"cpu\"\n",
    "\n",
    "tokenizer = AutoTokenizer.from_pretrained(\"FacebookAI/roberta-base\")\n",
    "processor = TrOCRProcessor.from_pretrained('microsoft/trocr-large-handwritten')\n",
    "trocr_model = VisionEncoderDecoderModel.from_pretrained('microsoft/trocr-large-handwritten').to(device)\n",
    "roberta_model = AutoModelForCausalLM.from_pretrained(\"FacebookAI/roberta-base\", is_decoder=True).to(device)"
   ],
   "outputs": [
    {
     "name": "stderr",
     "output_type": "stream",
     "text": [
      "/Users/amaljoe/Desktop/Workspace/IITB/NLP/OCR_with_LLMs/.venv/lib/python3.9/site-packages/urllib3/__init__.py:35: NotOpenSSLWarning: urllib3 v2 only supports OpenSSL 1.1.1+, currently the 'ssl' module is compiled with 'LibreSSL 2.8.3'. See: https://github.com/urllib3/urllib3/issues/3020\n",
      "  warnings.warn(\n",
      "Config of the encoder: <class 'transformers.models.vit.modeling_vit.ViTModel'> is overwritten by shared encoder config: ViTConfig {\n",
      "  \"attention_probs_dropout_prob\": 0.0,\n",
      "  \"encoder_stride\": 16,\n",
      "  \"hidden_act\": \"gelu\",\n",
      "  \"hidden_dropout_prob\": 0.0,\n",
      "  \"hidden_size\": 1024,\n",
      "  \"image_size\": 384,\n",
      "  \"initializer_range\": 0.02,\n",
      "  \"intermediate_size\": 4096,\n",
      "  \"layer_norm_eps\": 1e-12,\n",
      "  \"model_type\": \"vit\",\n",
      "  \"num_attention_heads\": 16,\n",
      "  \"num_channels\": 3,\n",
      "  \"num_hidden_layers\": 24,\n",
      "  \"patch_size\": 16,\n",
      "  \"qkv_bias\": false,\n",
      "  \"transformers_version\": \"4.46.2\"\n",
      "}\n",
      "\n",
      "Config of the decoder: <class 'transformers.models.trocr.modeling_trocr.TrOCRForCausalLM'> is overwritten by shared decoder config: TrOCRConfig {\n",
      "  \"activation_dropout\": 0.0,\n",
      "  \"activation_function\": \"gelu\",\n",
      "  \"add_cross_attention\": true,\n",
      "  \"attention_dropout\": 0.0,\n",
      "  \"bos_token_id\": 0,\n",
      "  \"classifier_dropout\": 0.0,\n",
      "  \"cross_attention_hidden_size\": 1024,\n",
      "  \"d_model\": 1024,\n",
      "  \"decoder_attention_heads\": 16,\n",
      "  \"decoder_ffn_dim\": 4096,\n",
      "  \"decoder_layerdrop\": 0.0,\n",
      "  \"decoder_layers\": 12,\n",
      "  \"decoder_start_token_id\": 2,\n",
      "  \"dropout\": 0.1,\n",
      "  \"eos_token_id\": 2,\n",
      "  \"init_std\": 0.02,\n",
      "  \"is_decoder\": true,\n",
      "  \"layernorm_embedding\": true,\n",
      "  \"max_position_embeddings\": 512,\n",
      "  \"model_type\": \"trocr\",\n",
      "  \"pad_token_id\": 1,\n",
      "  \"scale_embedding\": false,\n",
      "  \"transformers_version\": \"4.46.2\",\n",
      "  \"use_cache\": false,\n",
      "  \"use_learned_position_embeddings\": true,\n",
      "  \"vocab_size\": 50265\n",
      "}\n",
      "\n",
      "Some weights of VisionEncoderDecoderModel were not initialized from the model checkpoint at microsoft/trocr-large-handwritten and are newly initialized: ['encoder.pooler.dense.bias', 'encoder.pooler.dense.weight']\n",
      "You should probably TRAIN this model on a down-stream task to be able to use it for predictions and inference.\n"
     ]
    }
   ],
   "execution_count": 1
  },
  {
   "metadata": {
    "ExecuteTime": {
     "end_time": "2024-11-26T06:45:50.615639Z",
     "start_time": "2024-11-26T06:45:50.364531Z"
    }
   },
   "cell_type": "code",
   "source": [
    "from PIL import Image\n",
    "\n",
    "# create ids of encoded input vectors\n",
    "filepath = 'data/ss2.png'\n",
    "image = Image.open(filepath).convert(\"RGB\")\n",
    "pixel_values = processor(images=image, return_tensors=\"pt\").pixel_values.to(device)\n",
    "prev_text = \"I can run it later, Now\"\n",
    "roberta_input_ids = tokenizer(prev_text, add_special_tokens=False, return_tensors=\"pt\").input_ids.to(device)\n",
    "decoder_input_ids = torch.tensor([[processor.tokenizer.cls_token_id]]).to(device)\n",
    "outputs = trocr_model(pixel_values, decoder_input_ids=decoder_input_ids, return_dict=True)\n",
    "encoded_sequence = (outputs.encoder_last_hidden_state,)\n",
    "\n",
    "roberta_input_ids, decoder_input_ids"
   ],
   "id": "7cb449f7dc540317",
   "outputs": [
    {
     "data": {
      "text/plain": [
       "(tensor([[100,  64, 422,  24, 423,   6, 978]], device='mps:0'),\n",
       " tensor([[0]], device='mps:0'))"
      ]
     },
     "execution_count": 21,
     "metadata": {},
     "output_type": "execute_result"
    }
   ],
   "execution_count": 21
  },
  {
   "metadata": {
    "ExecuteTime": {
     "end_time": "2024-11-26T06:45:57.990292Z",
     "start_time": "2024-11-26T06:45:57.683894Z"
    }
   },
   "cell_type": "code",
   "source": [
    "roberta_logits = roberta_model(input_ids=roberta_input_ids, return_dict=True).logits\n",
    "trocr_logits = trocr_model(None, encoder_outputs=encoded_sequence, decoder_input_ids=decoder_input_ids, return_dict=True).logits\n",
    "\n",
    "trocr_confidence = torch.softmax(trocr_logits[:, -1:], dim=-1).flatten().max()\n",
    "\n",
    "lm_next_logit = (1 - trocr_confidence) * roberta_logits[:, -1:] + trocr_confidence * trocr_logits[:, -1:]\n",
    "\n",
    "next_decoder_input_ids = torch.argmax(lm_next_logit, axis=-1)\n",
    "roberta_input_ids = torch.cat([roberta_input_ids, next_decoder_input_ids], axis=-1)\n",
    "decoder_input_ids = torch.cat([decoder_input_ids, next_decoder_input_ids], axis=-1)\n",
    "\n",
    "tokenizer.decode(decoder_input_ids[0], skip_special_tokens=True), decoder_input_ids, trocr_confidence"
   ],
   "id": "7fbe157beb6e6280",
   "outputs": [
    {
     "data": {
      "text/plain": [
       "('Test 5-10 evaluation chats ( once I get )',\n",
       " tensor([[    0, 34603,   195,    12,   698, 10437, 28975,    36,   683,    38,\n",
       "            120,  4839]], device='mps:0'),\n",
       " tensor(0.9991, device='mps:0', grad_fn=<MaxBackward1>))"
      ]
     },
     "execution_count": 32,
     "metadata": {},
     "output_type": "execute_result"
    }
   ],
   "execution_count": 32
  },
  {
   "metadata": {
    "ExecuteTime": {
     "end_time": "2024-11-26T06:30:16.595084Z",
     "start_time": "2024-11-26T06:30:16.564578Z"
    }
   },
   "cell_type": "code",
   "source": "trocr_model(None, encoder_outputs=encoded_sequence, decoder_input_ids=decoder_input_ids, output_scores=True,  return_dict=True).keys()",
   "id": "6ebb6adba52d40d",
   "outputs": [
    {
     "data": {
      "text/plain": [
       "odict_keys(['logits', 'encoder_last_hidden_state'])"
      ]
     },
     "execution_count": 51,
     "metadata": {},
     "output_type": "execute_result"
    }
   ],
   "execution_count": 51
  }
 ],
 "metadata": {
  "kernelspec": {
   "display_name": "Python 3",
   "language": "python",
   "name": "python3"
  },
  "language_info": {
   "codemirror_mode": {
    "name": "ipython",
    "version": 2
   },
   "file_extension": ".py",
   "mimetype": "text/x-python",
   "name": "python",
   "nbconvert_exporter": "python",
   "pygments_lexer": "ipython2",
   "version": "2.7.6"
  }
 },
 "nbformat": 4,
 "nbformat_minor": 5
}
