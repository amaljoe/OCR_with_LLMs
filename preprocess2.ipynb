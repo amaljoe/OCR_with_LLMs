{
 "cells": [
  {
   "cell_type": "code",
   "execution_count": 44,
   "id": "c468e0ba",
   "metadata": {},
   "outputs": [],
   "source": [
    "import numpy as np\n",
    "import cv2\n",
    "from fuzzywuzzy import fuzz\n",
    "import pytesseract\n",
    "from skimage import io as ioski\n",
    "from skimage.color import rgb2gray\n",
    "from skimage.transform import rotate, resize\n",
    "from asrtoolkit import wer, cer\n",
    "from deskew import determine_skew"
   ]
  },
  {
   "cell_type": "code",
   "execution_count": 45,
   "id": "4c2003ce",
   "metadata": {},
   "outputs": [],
   "source": [
    "# sample_image = \"data/iam_form.png\"\n",
    "# image = cv2.imread(sample_image)\n",
    "# grayscale = cv2.cvtColor(image, cv2.COLOR_BGR2GRAY)\n",
    "# angle = determine_skew(grayscale)\n",
    "# print(angle)\n",
    "# rotated = rotate(image, angle, resize=True) * 255\n",
    "# print(type(rotated))\n",
    "# ioski.imsave(\"output_deskewed.png\", rotated.astype(np.uint8))\n"
   ]
  },
  {
   "cell_type": "code",
   "execution_count": 46,
   "id": "176486f4",
   "metadata": {},
   "outputs": [],
   "source": [
    "def pre_process_image(image):\n",
    "    img = cv2.imread(image)\n",
    "    img = cv2.resize(img, None, fx=.3, fy=.3) #resize using percentage\n",
    "    img = cv2.cvtColor(img, cv2.COLOR_BGR2RGB) #change color format from BGR to RGB\n",
    "    img = cv2.cvtColor(img, cv2.COLOR_BGR2GRAY) #format image to gray scale\n",
    "    img = cv2.adaptiveThreshold(img, 255, cv2.ADAPTIVE_THRESH_GAUSSIAN_C, cv2.THRESH_BINARY, 5, 11) #to remove background\n",
    "    return img"
   ]
  },
  {
   "cell_type": "code",
   "execution_count": 47,
   "id": "03a87d61",
   "metadata": {},
   "outputs": [],
   "source": [
    "def dskew_img(image):\n",
    "    # cv2output = ioski.imread(image)\n",
    "    # grayscale = rgb2gray(image)\n",
    "    image = cv2.imread(image)\n",
    "    grayscale = cv2.cvtColor(image, cv2.COLOR_BGR2GRAY)\n",
    "    angle = determine_skew(grayscale)\n",
    "    # print(\"angle rotation of image\",angle)\n",
    "    rotated = rotate(grayscale, angle, resize=True) * 255\n",
    "    return rotated"
   ]
  },
  {
   "cell_type": "code",
   "execution_count": 48,
   "id": "1d33cba9",
   "metadata": {},
   "outputs": [
    {
     "data": {
      "text/plain": [
       "True"
      ]
     },
     "execution_count": 48,
     "metadata": {},
     "output_type": "execute_result"
    }
   ],
   "source": [
    "# processed_img = pre_process_image(\"output_deskewed.png\")\n",
    "# cv2.imwrite(\"output_processed.png\",processed_img)\n",
    "# processed_img = pre_process_image(sample_image)\n",
    "# cv2.imwrite(\"output_no_deskewing.png\",processed_img)\n",
    "rotated = dskew_img(\"data/skewed.png\")\n",
    "ioski.imsave(\"deskewed.png\", rotated.astype(np.uint8))\n",
    "processed_img = pre_process_image(\"deskewed.png\")\n",
    "cv2.imwrite(\"processed.png\",processed_img)"
   ]
  },
  {
   "cell_type": "code",
   "execution_count": 49,
   "id": "3fe48e89",
   "metadata": {},
   "outputs": [],
   "source": [
    "actual_text = \"And, since this is election year in West Germany, Dr. Adenauer is in a tough spot. Joyce Egginton cables: President Kennedy at his Washington Press conference admitted he did not know whether America was lagging behind Russia in missile power. He said he was waiting for his senior military aides to come up with the answer on February 20.\"\n",
    "actual_text = \"Delicious substitute for tuna in your favorite recipes. Perfect for creative hors d'oeuvres and snacks. Great as a salad topper\""
   ]
  },
  {
   "cell_type": "code",
   "execution_count": 50,
   "id": "ea5a21af",
   "metadata": {},
   "outputs": [
    {
     "name": "stdout",
     "output_type": "stream",
     "text": [
      "CER, WER, Rate : 16.666666666666668 52.38095238095238 77\n",
      "Delicious substitute fos tovte. In your Favorte\n",
      ": £ecipes, ertecd- for Creative Mors dloevyres and\n",
      "Cota cKS: Great aS a Salecd topper.\n",
      "\n",
      "—\n",
      "\n"
     ]
    }
   ],
   "source": [
    "hypothesis = pytesseract.image_to_string(\"processed.png\")\n",
    "print(\"CER, WER, Rate :\",cer(actual_text, hypothesis),wer(actual_text, hypothesis),fuzz.ratio(actual_text, hypothesis))\n",
    "print(hypothesis)"
   ]
  }
 ],
 "metadata": {
  "kernelspec": {
   "display_name": "Python 3 (ipykernel)",
   "language": "python",
   "name": "python3"
  },
  "language_info": {
   "codemirror_mode": {
    "name": "ipython",
    "version": 3
   },
   "file_extension": ".py",
   "mimetype": "text/x-python",
   "name": "python",
   "nbconvert_exporter": "python",
   "pygments_lexer": "ipython3",
   "version": "3.12.3"
  }
 },
 "nbformat": 4,
 "nbformat_minor": 5
}
